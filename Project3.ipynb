{
  "cells": [
    {
      "cell_type": "markdown",
      "metadata": {
        "id": "SUPt_qM7A0kn"
      },
      "source": [
        "### Mount google drive"
      ]
    },
    {
      "cell_type": "code",
      "execution_count": null,
      "metadata": {
        "colab": {
          "base_uri": "https://localhost:8080/"
        },
        "id": "GsRZkENU_URC",
        "outputId": "1455499a-0713-4035-a99c-35e0be67b1c1"
      },
      "outputs": [
        {
          "name": "stdout",
          "output_type": "stream",
          "text": [
            "Mounted at /content/drive\n"
          ]
        }
      ],
      "source": [
        "from google.colab import drive\n",
        "drive.mount('/content/drive')"
      ]
    },
    {
      "cell_type": "markdown",
      "metadata": {
        "id": "ugBP_tsMBH40"
      },
      "source": [
        "### Import libraries"
      ]
    },
    {
      "cell_type": "code",
      "execution_count": null,
      "metadata": {
        "colab": {
          "base_uri": "https://localhost:8080/"
        },
        "id": "orQn3Sr7BJTj",
        "outputId": "21530ca8-36ab-4da4-c0ab-1c24c6bfbf3b"
      },
      "outputs": [
        {
          "name": "stdout",
          "output_type": "stream",
          "text": [
            "Python 3.10.12 (main, Jun 11 2023, 05:26:28) [GCC 11.4.0]\n",
            "Pandas 1.5.3\n",
            "Numpy 1.23.5\n",
            "Scikit-Learn 1.2.2\n",
            "\n",
            "Tensor Flow Version: 2.14.0\n"
          ]
        }
      ],
      "source": [
        "%matplotlib inline\n",
        "import tensorflow as tf\n",
        "import numpy as np\n",
        "import sys\n",
        "import sklearn as sk\n",
        "import pandas as pd\n",
        "import sklearn.feature_extraction.text as sk_text\n",
        "import seaborn as sns\n",
        "import cv2\n",
        "import glob\n",
        "from IPython.display import Image\n",
        "from collections.abc import Sequence\n",
        "from sklearn import preprocessing, metrics\n",
        "import matplotlib.pyplot as plt\n",
        "from matplotlib.pyplot import figure, show\n",
        "import shutil\n",
        "import os\n",
        "from keras.models import Sequential\n",
        "from keras.layers import Dense, Activation\n",
        "from keras.callbacks import EarlyStopping, ModelCheckpoint\n",
        "from keras.layers import Conv2D, MaxPooling2D\n",
        "from keras.layers import Dropout, Flatten\n",
        "import io\n",
        "from sklearn.model_selection import train_test_split\n",
        "\n",
        "print(\"Python {}\".format(sys.version))\n",
        "print('Pandas {}'.format(pd.__version__))\n",
        "print('Numpy {}'.format(np.__version__))\n",
        "print('Scikit-Learn {}'.format(sk.__version__))\n",
        "print()\n",
        "print(\"Tensor Flow Version: {}\".format(tf.__version__))"
      ]
    },
    {
      "cell_type": "markdown",
      "metadata": {
        "id": "SFWBSVQIB7Ao"
      },
      "source": [
        "### Helper Functions"
      ]
    },
    {
      "cell_type": "code",
      "execution_count": null,
      "metadata": {
        "id": "O2PzHEGHB_xK"
      },
      "outputs": [],
      "source": [
        "#helpful functions\n",
        "from collections.abc import Sequence\n",
        "from sklearn import preprocessing\n",
        "import matplotlib.pyplot as plt\n",
        "import shutil\n",
        "import os\n",
        "\n",
        "\n",
        "# Encode text values to dummy variables(i.e. [1,0,0],[0,1,0],[0,0,1] for red,green,blue)\n",
        "def encode_text_dummy(df, name):\n",
        "    dummies = pd.get_dummies(df[name])\n",
        "    for x in dummies.columns:\n",
        "        dummy_name = \"{}-{}\".format(name, x)\n",
        "        df[dummy_name] = dummies[x]\n",
        "    df.drop(name, axis=1, inplace=True)\n",
        "\n",
        "\n",
        "# Encode text values to indexes(i.e. [1],[2],[3] for red,green,blue).\n",
        "def encode_text_index(df, name):\n",
        "    le = preprocessing.LabelEncoder()\n",
        "    df[name] = le.fit_transform(df[name])\n",
        "    return le.classes_\n",
        "\n",
        "\n",
        "# Encode a numeric column as zscores\n",
        "def encode_numeric_zscore(df, name, mean=None, sd=None):\n",
        "    if mean is None:\n",
        "        mean = df[name].mean()\n",
        "\n",
        "    if sd is None:\n",
        "        sd = df[name].std()\n",
        "\n",
        "    df[name] = (df[name] - mean) / sd\n",
        "\n",
        "\n",
        "# Convert all missing values in the specified column to the median\n",
        "def missing_median(df, name):\n",
        "    med = df[name].median()\n",
        "    df[name] = df[name].fillna(med)\n",
        "\n",
        "\n",
        "# Convert all missing values in the specified column to the default\n",
        "def missing_default(df, name, default_value):\n",
        "    df[name] = df[name].fillna(default_value)\n",
        "\n",
        "\n",
        "# Convert a Pandas dataframe to the x,y inputs that TensorFlow needs\n",
        "def to_xy(df, target):\n",
        "    result = []\n",
        "    for x in df.columns:\n",
        "        if x != target:\n",
        "            result.append(x)\n",
        "    # find out the type of the target column.\n",
        "    target_type = df[target].dtypes\n",
        "    target_type = target_type[0] if isinstance(target_type, Sequence) else target_type\n",
        "    # Encode to int for classification, float otherwise. TensorFlow likes 32 bits.\n",
        "    if target_type in (np.int64, np.int32):\n",
        "        # Classification\n",
        "        dummies = pd.get_dummies(df[target])\n",
        "        return df[result].values.astype(np.float32), dummies.values.astype(np.float32)\n",
        "    else:\n",
        "        # Regression\n",
        "        return df[result].values.astype(np.float32), df[target].values.astype(np.float32)\n",
        "\n",
        "# Nicely formatted time string\n",
        "def hms_string(sec_elapsed):\n",
        "    h = int(sec_elapsed / (60 * 60))\n",
        "    m = int((sec_elapsed % (60 * 60)) / 60)\n",
        "    s = sec_elapsed % 60\n",
        "    return \"{}:{:>02}:{:>05.2f}\".format(h, m, s)\n",
        "\n",
        "\n",
        "# Regression chart.\n",
        "def chart_regression(pred,y,sort=True):\n",
        "    t = pd.DataFrame({'pred' : pred, 'y' : y.flatten()})\n",
        "    if sort:\n",
        "        t.sort_values(by=['y'],inplace=True)\n",
        "    a = plt.plot(t['y'].tolist(),label='expected')\n",
        "    b = plt.plot(t['pred'].tolist(),label='prediction')\n",
        "    plt.ylabel('output')\n",
        "    plt.legend()\n",
        "    plt.show()\n",
        "\n",
        "# Remove all rows where the specified column is +/- sd standard deviations\n",
        "def remove_outliers(df, name, sd):\n",
        "    drop_rows = df.index[(np.abs(df[name] - df[name].mean()) >= (sd * df[name].std()))]\n",
        "    df.drop(drop_rows, axis=0, inplace=True)\n",
        "\n",
        "\n",
        "# Encode a column to a range between normalized_low and normalized_high.\n",
        "def encode_numeric_range(df, name, normalized_low=-1, normalized_high=1,\n",
        "                         data_low=None, data_high=None):\n",
        "    if data_low is None:\n",
        "        data_low = min(df[name])\n",
        "        data_high = max(df[name])\n",
        "\n",
        "    df[name] = ((df[name] - data_low) / (data_high - data_low)) * (normalized_high - normalized_low) + normalized_low"
      ]
    },
    {
      "cell_type": "markdown",
      "metadata": {
        "id": "4ZY9vhuQiTUJ"
      },
      "source": [
        "### Load Textual Dataset\n"
      ]
    },
    {
      "cell_type": "code",
      "execution_count": null,
      "metadata": {
        "id": "cf8VQ7RziWwI"
      },
      "outputs": [],
      "source": [
        "#data location\n",
        "filename_read = os.path.join(\"drive/MyDrive/CSC180 Project 3 Dataset/Houses Dataset/HousesInfo.txt\")\n",
        "\n",
        "#column names\n",
        "cols=[\"Bedrooms\",\"Bathrooms\",\"area\",\"zipcode\",\"price\"]\n",
        "\n",
        "#read data into dataframe\n",
        "houseInfo = pd.read_csv(filename_read , sep=\" \", header=None , names=cols)"
      ]
    },
    {
      "cell_type": "code",
      "execution_count": null,
      "metadata": {
        "colab": {
          "base_uri": "https://localhost:8080/",
          "height": 204
        },
        "id": "8uVg9GPfjU1y",
        "outputId": "6cacb512-20c1-4774-b2a4-dfb6c075945d"
      },
      "outputs": [
        {
          "data": {
            "text/html": [
              "\n",
              "  <div id=\"df-3b7840ec-991b-4520-865e-89466b6466ed\" class=\"colab-df-container\">\n",
              "    <div>\n",
              "<style scoped>\n",
              "    .dataframe tbody tr th:only-of-type {\n",
              "        vertical-align: middle;\n",
              "    }\n",
              "\n",
              "    .dataframe tbody tr th {\n",
              "        vertical-align: top;\n",
              "    }\n",
              "\n",
              "    .dataframe thead th {\n",
              "        text-align: right;\n",
              "    }\n",
              "</style>\n",
              "<table border=\"1\" class=\"dataframe\">\n",
              "  <thead>\n",
              "    <tr style=\"text-align: right;\">\n",
              "      <th></th>\n",
              "      <th>Bedrooms</th>\n",
              "      <th>Bathrooms</th>\n",
              "      <th>area</th>\n",
              "      <th>zipcode</th>\n",
              "      <th>price</th>\n",
              "    </tr>\n",
              "  </thead>\n",
              "  <tbody>\n",
              "    <tr>\n",
              "      <th>0</th>\n",
              "      <td>4</td>\n",
              "      <td>4.0</td>\n",
              "      <td>4053</td>\n",
              "      <td>85255</td>\n",
              "      <td>869500</td>\n",
              "    </tr>\n",
              "    <tr>\n",
              "      <th>1</th>\n",
              "      <td>4</td>\n",
              "      <td>3.0</td>\n",
              "      <td>3343</td>\n",
              "      <td>36372</td>\n",
              "      <td>865200</td>\n",
              "    </tr>\n",
              "    <tr>\n",
              "      <th>2</th>\n",
              "      <td>3</td>\n",
              "      <td>4.0</td>\n",
              "      <td>3923</td>\n",
              "      <td>85266</td>\n",
              "      <td>889000</td>\n",
              "    </tr>\n",
              "    <tr>\n",
              "      <th>3</th>\n",
              "      <td>5</td>\n",
              "      <td>5.0</td>\n",
              "      <td>4022</td>\n",
              "      <td>85262</td>\n",
              "      <td>910000</td>\n",
              "    </tr>\n",
              "    <tr>\n",
              "      <th>4</th>\n",
              "      <td>3</td>\n",
              "      <td>4.0</td>\n",
              "      <td>4116</td>\n",
              "      <td>85266</td>\n",
              "      <td>971226</td>\n",
              "    </tr>\n",
              "  </tbody>\n",
              "</table>\n",
              "</div>\n",
              "    <div class=\"colab-df-buttons\">\n",
              "\n",
              "  <div class=\"colab-df-container\">\n",
              "    <button class=\"colab-df-convert\" onclick=\"convertToInteractive('df-3b7840ec-991b-4520-865e-89466b6466ed')\"\n",
              "            title=\"Convert this dataframe to an interactive table.\"\n",
              "            style=\"display:none;\">\n",
              "\n",
              "  <svg xmlns=\"http://www.w3.org/2000/svg\" height=\"24px\" viewBox=\"0 -960 960 960\">\n",
              "    <path d=\"M120-120v-720h720v720H120Zm60-500h600v-160H180v160Zm220 220h160v-160H400v160Zm0 220h160v-160H400v160ZM180-400h160v-160H180v160Zm440 0h160v-160H620v160ZM180-180h160v-160H180v160Zm440 0h160v-160H620v160Z\"/>\n",
              "  </svg>\n",
              "    </button>\n",
              "\n",
              "  <style>\n",
              "    .colab-df-container {\n",
              "      display:flex;\n",
              "      gap: 12px;\n",
              "    }\n",
              "\n",
              "    .colab-df-convert {\n",
              "      background-color: #E8F0FE;\n",
              "      border: none;\n",
              "      border-radius: 50%;\n",
              "      cursor: pointer;\n",
              "      display: none;\n",
              "      fill: #1967D2;\n",
              "      height: 32px;\n",
              "      padding: 0 0 0 0;\n",
              "      width: 32px;\n",
              "    }\n",
              "\n",
              "    .colab-df-convert:hover {\n",
              "      background-color: #E2EBFA;\n",
              "      box-shadow: 0px 1px 2px rgba(60, 64, 67, 0.3), 0px 1px 3px 1px rgba(60, 64, 67, 0.15);\n",
              "      fill: #174EA6;\n",
              "    }\n",
              "\n",
              "    .colab-df-buttons div {\n",
              "      margin-bottom: 4px;\n",
              "    }\n",
              "\n",
              "    [theme=dark] .colab-df-convert {\n",
              "      background-color: #3B4455;\n",
              "      fill: #D2E3FC;\n",
              "    }\n",
              "\n",
              "    [theme=dark] .colab-df-convert:hover {\n",
              "      background-color: #434B5C;\n",
              "      box-shadow: 0px 1px 3px 1px rgba(0, 0, 0, 0.15);\n",
              "      filter: drop-shadow(0px 1px 2px rgba(0, 0, 0, 0.3));\n",
              "      fill: #FFFFFF;\n",
              "    }\n",
              "  </style>\n",
              "\n",
              "    <script>\n",
              "      const buttonEl =\n",
              "        document.querySelector('#df-3b7840ec-991b-4520-865e-89466b6466ed button.colab-df-convert');\n",
              "      buttonEl.style.display =\n",
              "        google.colab.kernel.accessAllowed ? 'block' : 'none';\n",
              "\n",
              "      async function convertToInteractive(key) {\n",
              "        const element = document.querySelector('#df-3b7840ec-991b-4520-865e-89466b6466ed');\n",
              "        const dataTable =\n",
              "          await google.colab.kernel.invokeFunction('convertToInteractive',\n",
              "                                                    [key], {});\n",
              "        if (!dataTable) return;\n",
              "\n",
              "        const docLinkHtml = 'Like what you see? Visit the ' +\n",
              "          '<a target=\"_blank\" href=https://colab.research.google.com/notebooks/data_table.ipynb>data table notebook</a>'\n",
              "          + ' to learn more about interactive tables.';\n",
              "        element.innerHTML = '';\n",
              "        dataTable['output_type'] = 'display_data';\n",
              "        await google.colab.output.renderOutput(dataTable, element);\n",
              "        const docLink = document.createElement('div');\n",
              "        docLink.innerHTML = docLinkHtml;\n",
              "        element.appendChild(docLink);\n",
              "      }\n",
              "    </script>\n",
              "  </div>\n",
              "\n",
              "\n",
              "<div id=\"df-b7f80f7c-1cd1-4589-b820-9bfca15fd157\">\n",
              "  <button class=\"colab-df-quickchart\" onclick=\"quickchart('df-b7f80f7c-1cd1-4589-b820-9bfca15fd157')\"\n",
              "            title=\"Suggest charts.\"\n",
              "            style=\"display:none;\">\n",
              "\n",
              "<svg xmlns=\"http://www.w3.org/2000/svg\" height=\"24px\"viewBox=\"0 0 24 24\"\n",
              "     width=\"24px\">\n",
              "    <g>\n",
              "        <path d=\"M19 3H5c-1.1 0-2 .9-2 2v14c0 1.1.9 2 2 2h14c1.1 0 2-.9 2-2V5c0-1.1-.9-2-2-2zM9 17H7v-7h2v7zm4 0h-2V7h2v10zm4 0h-2v-4h2v4z\"/>\n",
              "    </g>\n",
              "</svg>\n",
              "  </button>\n",
              "\n",
              "<style>\n",
              "  .colab-df-quickchart {\n",
              "      --bg-color: #E8F0FE;\n",
              "      --fill-color: #1967D2;\n",
              "      --hover-bg-color: #E2EBFA;\n",
              "      --hover-fill-color: #174EA6;\n",
              "      --disabled-fill-color: #AAA;\n",
              "      --disabled-bg-color: #DDD;\n",
              "  }\n",
              "\n",
              "  [theme=dark] .colab-df-quickchart {\n",
              "      --bg-color: #3B4455;\n",
              "      --fill-color: #D2E3FC;\n",
              "      --hover-bg-color: #434B5C;\n",
              "      --hover-fill-color: #FFFFFF;\n",
              "      --disabled-bg-color: #3B4455;\n",
              "      --disabled-fill-color: #666;\n",
              "  }\n",
              "\n",
              "  .colab-df-quickchart {\n",
              "    background-color: var(--bg-color);\n",
              "    border: none;\n",
              "    border-radius: 50%;\n",
              "    cursor: pointer;\n",
              "    display: none;\n",
              "    fill: var(--fill-color);\n",
              "    height: 32px;\n",
              "    padding: 0;\n",
              "    width: 32px;\n",
              "  }\n",
              "\n",
              "  .colab-df-quickchart:hover {\n",
              "    background-color: var(--hover-bg-color);\n",
              "    box-shadow: 0 1px 2px rgba(60, 64, 67, 0.3), 0 1px 3px 1px rgba(60, 64, 67, 0.15);\n",
              "    fill: var(--button-hover-fill-color);\n",
              "  }\n",
              "\n",
              "  .colab-df-quickchart-complete:disabled,\n",
              "  .colab-df-quickchart-complete:disabled:hover {\n",
              "    background-color: var(--disabled-bg-color);\n",
              "    fill: var(--disabled-fill-color);\n",
              "    box-shadow: none;\n",
              "  }\n",
              "\n",
              "  .colab-df-spinner {\n",
              "    border: 2px solid var(--fill-color);\n",
              "    border-color: transparent;\n",
              "    border-bottom-color: var(--fill-color);\n",
              "    animation:\n",
              "      spin 1s steps(1) infinite;\n",
              "  }\n",
              "\n",
              "  @keyframes spin {\n",
              "    0% {\n",
              "      border-color: transparent;\n",
              "      border-bottom-color: var(--fill-color);\n",
              "      border-left-color: var(--fill-color);\n",
              "    }\n",
              "    20% {\n",
              "      border-color: transparent;\n",
              "      border-left-color: var(--fill-color);\n",
              "      border-top-color: var(--fill-color);\n",
              "    }\n",
              "    30% {\n",
              "      border-color: transparent;\n",
              "      border-left-color: var(--fill-color);\n",
              "      border-top-color: var(--fill-color);\n",
              "      border-right-color: var(--fill-color);\n",
              "    }\n",
              "    40% {\n",
              "      border-color: transparent;\n",
              "      border-right-color: var(--fill-color);\n",
              "      border-top-color: var(--fill-color);\n",
              "    }\n",
              "    60% {\n",
              "      border-color: transparent;\n",
              "      border-right-color: var(--fill-color);\n",
              "    }\n",
              "    80% {\n",
              "      border-color: transparent;\n",
              "      border-right-color: var(--fill-color);\n",
              "      border-bottom-color: var(--fill-color);\n",
              "    }\n",
              "    90% {\n",
              "      border-color: transparent;\n",
              "      border-bottom-color: var(--fill-color);\n",
              "    }\n",
              "  }\n",
              "</style>\n",
              "\n",
              "  <script>\n",
              "    async function quickchart(key) {\n",
              "      const quickchartButtonEl =\n",
              "        document.querySelector('#' + key + ' button');\n",
              "      quickchartButtonEl.disabled = true;  // To prevent multiple clicks.\n",
              "      quickchartButtonEl.classList.add('colab-df-spinner');\n",
              "      try {\n",
              "        const charts = await google.colab.kernel.invokeFunction(\n",
              "            'suggestCharts', [key], {});\n",
              "      } catch (error) {\n",
              "        console.error('Error during call to suggestCharts:', error);\n",
              "      }\n",
              "      quickchartButtonEl.classList.remove('colab-df-spinner');\n",
              "      quickchartButtonEl.classList.add('colab-df-quickchart-complete');\n",
              "    }\n",
              "    (() => {\n",
              "      let quickchartButtonEl =\n",
              "        document.querySelector('#df-b7f80f7c-1cd1-4589-b820-9bfca15fd157 button');\n",
              "      quickchartButtonEl.style.display =\n",
              "        google.colab.kernel.accessAllowed ? 'block' : 'none';\n",
              "    })();\n",
              "  </script>\n",
              "</div>\n",
              "    </div>\n",
              "  </div>\n"
            ],
            "text/plain": [
              "   Bedrooms  Bathrooms  area  zipcode   price\n",
              "0         4        4.0  4053    85255  869500\n",
              "1         4        3.0  3343    36372  865200\n",
              "2         3        4.0  3923    85266  889000\n",
              "3         5        5.0  4022    85262  910000\n",
              "4         3        4.0  4116    85266  971226"
            ]
          },
          "execution_count": 6,
          "metadata": {},
          "output_type": "execute_result"
        }
      ],
      "source": [
        "#Dataset\n",
        "houseInfo.head()"
      ]
    },
    {
      "cell_type": "markdown",
      "metadata": {
        "id": "k39SlLeijhrC"
      },
      "source": [
        "### Load Image Dataset"
      ]
    },
    {
      "cell_type": "code",
      "execution_count": null,
      "metadata": {
        "id": "fSpy9pykjkwC"
      },
      "outputs": [],
      "source": [
        "## Bathroom.jpg\n",
        "new_images=[]\n",
        "for number in range(1, 536):\n",
        "    for path in glob.glob(\"drive/MyDrive/CSC180 Project 3 Dataset/Houses Dataset/\" + str(number) + \"_bathroom.jpg\"):\n",
        "        if os.path.isfile(path):\n",
        "            new_images.append(path)"
      ]
    },
    {
      "cell_type": "code",
      "execution_count": null,
      "metadata": {
        "id": "SA1nm-GSkCEg"
      },
      "outputs": [],
      "source": [
        "#add bathroom to collective image\n",
        "img= pd.DataFrame(new_images,columns = ['bathroom_img'])"
      ]
    },
    {
      "cell_type": "code",
      "execution_count": null,
      "metadata": {
        "id": "SMuvNxt_kHPm"
      },
      "outputs": [],
      "source": [
        "## bedroom images\n",
        "bedroom_images = []\n",
        "for number in range(1, 536):\n",
        "    for path in glob.glob(\"drive/MyDrive/CSC180 Project 3 Dataset/Houses Dataset/\" + str(number) + \"_bedroom.jpg\"):\n",
        "        if os.path.isfile(path):\n",
        "            bedroom_images.append(path)"
      ]
    },
    {
      "cell_type": "code",
      "execution_count": null,
      "metadata": {
        "id": "ddod-ROIkPpn"
      },
      "outputs": [],
      "source": [
        "#add bedroom to collective image\n",
        "img['bedroom_img']=bedroom_images"
      ]
    },
    {
      "cell_type": "code",
      "execution_count": null,
      "metadata": {
        "id": "hFc8Rh5eki13"
      },
      "outputs": [],
      "source": [
        "#frontal images\n",
        "frontal_images = []\n",
        "for number in range(1, 536):\n",
        "    for path in glob.glob(\"drive/MyDrive/CSC180 Project 3 Dataset/Houses Dataset/\" + str(number) + \"_frontal.jpg\"):\n",
        "        if os.path.isfile(path):\n",
        "            frontal_images.append(path)"
      ]
    },
    {
      "cell_type": "code",
      "execution_count": null,
      "metadata": {
        "id": "HhjzKa_GkmHs"
      },
      "outputs": [],
      "source": [
        "#add frontal to collective image\n",
        "img['frontal_img']=frontal_images"
      ]
    },
    {
      "cell_type": "code",
      "execution_count": null,
      "metadata": {
        "id": "9KoVa-Olk8XG"
      },
      "outputs": [],
      "source": [
        "#kitchen images\n",
        "kitchen_images = []\n",
        "for number in range(1, 536):\n",
        "    for path in glob.glob(\"drive/MyDrive/CSC180 Project 3 Dataset/Houses Dataset/\" + str(number) + \"_kitchen.jpg\"):\n",
        "        if os.path.isfile(path):\n",
        "            kitchen_images.append(path)"
      ]
    },
    {
      "cell_type": "code",
      "execution_count": null,
      "metadata": {
        "id": "OdCnfVcdlFQh"
      },
      "outputs": [],
      "source": [
        "#add kitchen to collective image\n",
        "img['kitchen_img']=kitchen_images"
      ]
    },
    {
      "cell_type": "code",
      "execution_count": null,
      "metadata": {
        "colab": {
          "base_uri": "https://localhost:8080/",
          "height": 289
        },
        "id": "gFEDiJFxlMUu",
        "outputId": "54033ac9-c295-4e1b-ea88-4b5aedb575a3"
      },
      "outputs": [
        {
          "data": {
            "text/html": [
              "\n",
              "  <div id=\"df-1a6a88d5-a853-41f5-914f-bcf097ab77b4\" class=\"colab-df-container\">\n",
              "    <div>\n",
              "<style scoped>\n",
              "    .dataframe tbody tr th:only-of-type {\n",
              "        vertical-align: middle;\n",
              "    }\n",
              "\n",
              "    .dataframe tbody tr th {\n",
              "        vertical-align: top;\n",
              "    }\n",
              "\n",
              "    .dataframe thead th {\n",
              "        text-align: right;\n",
              "    }\n",
              "</style>\n",
              "<table border=\"1\" class=\"dataframe\">\n",
              "  <thead>\n",
              "    <tr style=\"text-align: right;\">\n",
              "      <th></th>\n",
              "      <th>bathroom_img</th>\n",
              "      <th>bedroom_img</th>\n",
              "      <th>frontal_img</th>\n",
              "      <th>kitchen_img</th>\n",
              "    </tr>\n",
              "  </thead>\n",
              "  <tbody>\n",
              "    <tr>\n",
              "      <th>0</th>\n",
              "      <td>drive/MyDrive/CSC180 Project 3 Dataset/Houses ...</td>\n",
              "      <td>drive/MyDrive/CSC180 Project 3 Dataset/Houses ...</td>\n",
              "      <td>drive/MyDrive/CSC180 Project 3 Dataset/Houses ...</td>\n",
              "      <td>drive/MyDrive/CSC180 Project 3 Dataset/Houses ...</td>\n",
              "    </tr>\n",
              "    <tr>\n",
              "      <th>1</th>\n",
              "      <td>drive/MyDrive/CSC180 Project 3 Dataset/Houses ...</td>\n",
              "      <td>drive/MyDrive/CSC180 Project 3 Dataset/Houses ...</td>\n",
              "      <td>drive/MyDrive/CSC180 Project 3 Dataset/Houses ...</td>\n",
              "      <td>drive/MyDrive/CSC180 Project 3 Dataset/Houses ...</td>\n",
              "    </tr>\n",
              "    <tr>\n",
              "      <th>2</th>\n",
              "      <td>drive/MyDrive/CSC180 Project 3 Dataset/Houses ...</td>\n",
              "      <td>drive/MyDrive/CSC180 Project 3 Dataset/Houses ...</td>\n",
              "      <td>drive/MyDrive/CSC180 Project 3 Dataset/Houses ...</td>\n",
              "      <td>drive/MyDrive/CSC180 Project 3 Dataset/Houses ...</td>\n",
              "    </tr>\n",
              "    <tr>\n",
              "      <th>3</th>\n",
              "      <td>drive/MyDrive/CSC180 Project 3 Dataset/Houses ...</td>\n",
              "      <td>drive/MyDrive/CSC180 Project 3 Dataset/Houses ...</td>\n",
              "      <td>drive/MyDrive/CSC180 Project 3 Dataset/Houses ...</td>\n",
              "      <td>drive/MyDrive/CSC180 Project 3 Dataset/Houses ...</td>\n",
              "    </tr>\n",
              "    <tr>\n",
              "      <th>4</th>\n",
              "      <td>drive/MyDrive/CSC180 Project 3 Dataset/Houses ...</td>\n",
              "      <td>drive/MyDrive/CSC180 Project 3 Dataset/Houses ...</td>\n",
              "      <td>drive/MyDrive/CSC180 Project 3 Dataset/Houses ...</td>\n",
              "      <td>drive/MyDrive/CSC180 Project 3 Dataset/Houses ...</td>\n",
              "    </tr>\n",
              "  </tbody>\n",
              "</table>\n",
              "</div>\n",
              "    <div class=\"colab-df-buttons\">\n",
              "\n",
              "  <div class=\"colab-df-container\">\n",
              "    <button class=\"colab-df-convert\" onclick=\"convertToInteractive('df-1a6a88d5-a853-41f5-914f-bcf097ab77b4')\"\n",
              "            title=\"Convert this dataframe to an interactive table.\"\n",
              "            style=\"display:none;\">\n",
              "\n",
              "  <svg xmlns=\"http://www.w3.org/2000/svg\" height=\"24px\" viewBox=\"0 -960 960 960\">\n",
              "    <path d=\"M120-120v-720h720v720H120Zm60-500h600v-160H180v160Zm220 220h160v-160H400v160Zm0 220h160v-160H400v160ZM180-400h160v-160H180v160Zm440 0h160v-160H620v160ZM180-180h160v-160H180v160Zm440 0h160v-160H620v160Z\"/>\n",
              "  </svg>\n",
              "    </button>\n",
              "\n",
              "  <style>\n",
              "    .colab-df-container {\n",
              "      display:flex;\n",
              "      gap: 12px;\n",
              "    }\n",
              "\n",
              "    .colab-df-convert {\n",
              "      background-color: #E8F0FE;\n",
              "      border: none;\n",
              "      border-radius: 50%;\n",
              "      cursor: pointer;\n",
              "      display: none;\n",
              "      fill: #1967D2;\n",
              "      height: 32px;\n",
              "      padding: 0 0 0 0;\n",
              "      width: 32px;\n",
              "    }\n",
              "\n",
              "    .colab-df-convert:hover {\n",
              "      background-color: #E2EBFA;\n",
              "      box-shadow: 0px 1px 2px rgba(60, 64, 67, 0.3), 0px 1px 3px 1px rgba(60, 64, 67, 0.15);\n",
              "      fill: #174EA6;\n",
              "    }\n",
              "\n",
              "    .colab-df-buttons div {\n",
              "      margin-bottom: 4px;\n",
              "    }\n",
              "\n",
              "    [theme=dark] .colab-df-convert {\n",
              "      background-color: #3B4455;\n",
              "      fill: #D2E3FC;\n",
              "    }\n",
              "\n",
              "    [theme=dark] .colab-df-convert:hover {\n",
              "      background-color: #434B5C;\n",
              "      box-shadow: 0px 1px 3px 1px rgba(0, 0, 0, 0.15);\n",
              "      filter: drop-shadow(0px 1px 2px rgba(0, 0, 0, 0.3));\n",
              "      fill: #FFFFFF;\n",
              "    }\n",
              "  </style>\n",
              "\n",
              "    <script>\n",
              "      const buttonEl =\n",
              "        document.querySelector('#df-1a6a88d5-a853-41f5-914f-bcf097ab77b4 button.colab-df-convert');\n",
              "      buttonEl.style.display =\n",
              "        google.colab.kernel.accessAllowed ? 'block' : 'none';\n",
              "\n",
              "      async function convertToInteractive(key) {\n",
              "        const element = document.querySelector('#df-1a6a88d5-a853-41f5-914f-bcf097ab77b4');\n",
              "        const dataTable =\n",
              "          await google.colab.kernel.invokeFunction('convertToInteractive',\n",
              "                                                    [key], {});\n",
              "        if (!dataTable) return;\n",
              "\n",
              "        const docLinkHtml = 'Like what you see? Visit the ' +\n",
              "          '<a target=\"_blank\" href=https://colab.research.google.com/notebooks/data_table.ipynb>data table notebook</a>'\n",
              "          + ' to learn more about interactive tables.';\n",
              "        element.innerHTML = '';\n",
              "        dataTable['output_type'] = 'display_data';\n",
              "        await google.colab.output.renderOutput(dataTable, element);\n",
              "        const docLink = document.createElement('div');\n",
              "        docLink.innerHTML = docLinkHtml;\n",
              "        element.appendChild(docLink);\n",
              "      }\n",
              "    </script>\n",
              "  </div>\n",
              "\n",
              "\n",
              "<div id=\"df-a1a66106-1997-4e0c-a112-9e138f59e489\">\n",
              "  <button class=\"colab-df-quickchart\" onclick=\"quickchart('df-a1a66106-1997-4e0c-a112-9e138f59e489')\"\n",
              "            title=\"Suggest charts.\"\n",
              "            style=\"display:none;\">\n",
              "\n",
              "<svg xmlns=\"http://www.w3.org/2000/svg\" height=\"24px\"viewBox=\"0 0 24 24\"\n",
              "     width=\"24px\">\n",
              "    <g>\n",
              "        <path d=\"M19 3H5c-1.1 0-2 .9-2 2v14c0 1.1.9 2 2 2h14c1.1 0 2-.9 2-2V5c0-1.1-.9-2-2-2zM9 17H7v-7h2v7zm4 0h-2V7h2v10zm4 0h-2v-4h2v4z\"/>\n",
              "    </g>\n",
              "</svg>\n",
              "  </button>\n",
              "\n",
              "<style>\n",
              "  .colab-df-quickchart {\n",
              "      --bg-color: #E8F0FE;\n",
              "      --fill-color: #1967D2;\n",
              "      --hover-bg-color: #E2EBFA;\n",
              "      --hover-fill-color: #174EA6;\n",
              "      --disabled-fill-color: #AAA;\n",
              "      --disabled-bg-color: #DDD;\n",
              "  }\n",
              "\n",
              "  [theme=dark] .colab-df-quickchart {\n",
              "      --bg-color: #3B4455;\n",
              "      --fill-color: #D2E3FC;\n",
              "      --hover-bg-color: #434B5C;\n",
              "      --hover-fill-color: #FFFFFF;\n",
              "      --disabled-bg-color: #3B4455;\n",
              "      --disabled-fill-color: #666;\n",
              "  }\n",
              "\n",
              "  .colab-df-quickchart {\n",
              "    background-color: var(--bg-color);\n",
              "    border: none;\n",
              "    border-radius: 50%;\n",
              "    cursor: pointer;\n",
              "    display: none;\n",
              "    fill: var(--fill-color);\n",
              "    height: 32px;\n",
              "    padding: 0;\n",
              "    width: 32px;\n",
              "  }\n",
              "\n",
              "  .colab-df-quickchart:hover {\n",
              "    background-color: var(--hover-bg-color);\n",
              "    box-shadow: 0 1px 2px rgba(60, 64, 67, 0.3), 0 1px 3px 1px rgba(60, 64, 67, 0.15);\n",
              "    fill: var(--button-hover-fill-color);\n",
              "  }\n",
              "\n",
              "  .colab-df-quickchart-complete:disabled,\n",
              "  .colab-df-quickchart-complete:disabled:hover {\n",
              "    background-color: var(--disabled-bg-color);\n",
              "    fill: var(--disabled-fill-color);\n",
              "    box-shadow: none;\n",
              "  }\n",
              "\n",
              "  .colab-df-spinner {\n",
              "    border: 2px solid var(--fill-color);\n",
              "    border-color: transparent;\n",
              "    border-bottom-color: var(--fill-color);\n",
              "    animation:\n",
              "      spin 1s steps(1) infinite;\n",
              "  }\n",
              "\n",
              "  @keyframes spin {\n",
              "    0% {\n",
              "      border-color: transparent;\n",
              "      border-bottom-color: var(--fill-color);\n",
              "      border-left-color: var(--fill-color);\n",
              "    }\n",
              "    20% {\n",
              "      border-color: transparent;\n",
              "      border-left-color: var(--fill-color);\n",
              "      border-top-color: var(--fill-color);\n",
              "    }\n",
              "    30% {\n",
              "      border-color: transparent;\n",
              "      border-left-color: var(--fill-color);\n",
              "      border-top-color: var(--fill-color);\n",
              "      border-right-color: var(--fill-color);\n",
              "    }\n",
              "    40% {\n",
              "      border-color: transparent;\n",
              "      border-right-color: var(--fill-color);\n",
              "      border-top-color: var(--fill-color);\n",
              "    }\n",
              "    60% {\n",
              "      border-color: transparent;\n",
              "      border-right-color: var(--fill-color);\n",
              "    }\n",
              "    80% {\n",
              "      border-color: transparent;\n",
              "      border-right-color: var(--fill-color);\n",
              "      border-bottom-color: var(--fill-color);\n",
              "    }\n",
              "    90% {\n",
              "      border-color: transparent;\n",
              "      border-bottom-color: var(--fill-color);\n",
              "    }\n",
              "  }\n",
              "</style>\n",
              "\n",
              "  <script>\n",
              "    async function quickchart(key) {\n",
              "      const quickchartButtonEl =\n",
              "        document.querySelector('#' + key + ' button');\n",
              "      quickchartButtonEl.disabled = true;  // To prevent multiple clicks.\n",
              "      quickchartButtonEl.classList.add('colab-df-spinner');\n",
              "      try {\n",
              "        const charts = await google.colab.kernel.invokeFunction(\n",
              "            'suggestCharts', [key], {});\n",
              "      } catch (error) {\n",
              "        console.error('Error during call to suggestCharts:', error);\n",
              "      }\n",
              "      quickchartButtonEl.classList.remove('colab-df-spinner');\n",
              "      quickchartButtonEl.classList.add('colab-df-quickchart-complete');\n",
              "    }\n",
              "    (() => {\n",
              "      let quickchartButtonEl =\n",
              "        document.querySelector('#df-a1a66106-1997-4e0c-a112-9e138f59e489 button');\n",
              "      quickchartButtonEl.style.display =\n",
              "        google.colab.kernel.accessAllowed ? 'block' : 'none';\n",
              "    })();\n",
              "  </script>\n",
              "</div>\n",
              "    </div>\n",
              "  </div>\n"
            ],
            "text/plain": [
              "                                        bathroom_img  \\\n",
              "0  drive/MyDrive/CSC180 Project 3 Dataset/Houses ...   \n",
              "1  drive/MyDrive/CSC180 Project 3 Dataset/Houses ...   \n",
              "2  drive/MyDrive/CSC180 Project 3 Dataset/Houses ...   \n",
              "3  drive/MyDrive/CSC180 Project 3 Dataset/Houses ...   \n",
              "4  drive/MyDrive/CSC180 Project 3 Dataset/Houses ...   \n",
              "\n",
              "                                         bedroom_img  \\\n",
              "0  drive/MyDrive/CSC180 Project 3 Dataset/Houses ...   \n",
              "1  drive/MyDrive/CSC180 Project 3 Dataset/Houses ...   \n",
              "2  drive/MyDrive/CSC180 Project 3 Dataset/Houses ...   \n",
              "3  drive/MyDrive/CSC180 Project 3 Dataset/Houses ...   \n",
              "4  drive/MyDrive/CSC180 Project 3 Dataset/Houses ...   \n",
              "\n",
              "                                         frontal_img  \\\n",
              "0  drive/MyDrive/CSC180 Project 3 Dataset/Houses ...   \n",
              "1  drive/MyDrive/CSC180 Project 3 Dataset/Houses ...   \n",
              "2  drive/MyDrive/CSC180 Project 3 Dataset/Houses ...   \n",
              "3  drive/MyDrive/CSC180 Project 3 Dataset/Houses ...   \n",
              "4  drive/MyDrive/CSC180 Project 3 Dataset/Houses ...   \n",
              "\n",
              "                                         kitchen_img  \n",
              "0  drive/MyDrive/CSC180 Project 3 Dataset/Houses ...  \n",
              "1  drive/MyDrive/CSC180 Project 3 Dataset/Houses ...  \n",
              "2  drive/MyDrive/CSC180 Project 3 Dataset/Houses ...  \n",
              "3  drive/MyDrive/CSC180 Project 3 Dataset/Houses ...  \n",
              "4  drive/MyDrive/CSC180 Project 3 Dataset/Houses ...  "
            ]
          },
          "execution_count": 15,
          "metadata": {},
          "output_type": "execute_result"
        }
      ],
      "source": [
        "#check to make sure loaded in properly\n",
        "img.head()"
      ]
    },
    {
      "cell_type": "code",
      "execution_count": null,
      "metadata": {
        "colab": {
          "base_uri": "https://localhost:8080/"
        },
        "id": "H40E1hY7lZI-",
        "outputId": "1a9d422c-4069-4eeb-d293-0fd5d5a68603"
      },
      "outputs": [
        {
          "data": {
            "text/plain": [
              "(535, 4)"
            ]
          },
          "execution_count": 16,
          "metadata": {},
          "output_type": "execute_result"
        }
      ],
      "source": [
        "#check shape is correct\n",
        "img.shape"
      ]
    },
    {
      "cell_type": "markdown",
      "metadata": {
        "id": "HuH3sJ8Vlo3K"
      },
      "source": [
        "### Transform Image Dataset"
      ]
    },
    {
      "cell_type": "code",
      "execution_count": null,
      "metadata": {
        "id": "sw8OFB2slu3-"
      },
      "outputs": [],
      "source": [
        "#concatenate house images to one (takes a while, about 10-30min)\n",
        "images_output=[]\n",
        "for row_index,row in img.iterrows():\n",
        "            inputImages=[]\n",
        "            outputImage = np.zeros((128, 128, 3), dtype=\"uint8\")\n",
        "            image_temp1 = cv2.imread(row.bathroom_img)\n",
        "            image1 = cv2.resize(image_temp1, (64 , 64))\n",
        "\n",
        "            image_temp2 = cv2.imread(row.bedroom_img)\n",
        "            image2 = cv2.resize(image_temp2, (64 , 64))\n",
        "\n",
        "            image_temp3 = cv2.imread(row.frontal_img)\n",
        "            image3 = cv2.resize(image_temp3, (64 , 64))\n",
        "\n",
        "            image_temp4 = cv2.imread(row.kitchen_img)\n",
        "            image4 = cv2.resize(image_temp4, (64 , 64))\n",
        "\n",
        "            inputImages.append(image1)\n",
        "            inputImages.append(image2)\n",
        "            inputImages.append(image3)\n",
        "            inputImages.append(image4)\n",
        "\n",
        "            outputImage[0:64, 0:64] = inputImages[0]\n",
        "            outputImage[0:64, 64:128] = inputImages[1]\n",
        "            outputImage[64:128, 64:128] = inputImages[2]\n",
        "            outputImage[64:128, 0:64] = inputImages[3]\n",
        "\n",
        "\n",
        "            images_output.append(outputImage)"
      ]
    },
    {
      "cell_type": "code",
      "execution_count": null,
      "metadata": {
        "colab": {
          "base_uri": "https://localhost:8080/"
        },
        "id": "uifUsMM7uyjE",
        "outputId": "e769c812-bbec-4ff2-81c4-a52c4ced8b6f"
      },
      "outputs": [
        {
          "data": {
            "text/plain": [
              "(535, 128, 128, 3)"
            ]
          },
          "execution_count": 18,
          "metadata": {},
          "output_type": "execute_result"
        }
      ],
      "source": [
        "#create numpy array of images\n",
        "img_arr=np.asarray(images_output)\n",
        "img_arr.shape"
      ]
    },
    {
      "cell_type": "markdown",
      "metadata": {
        "id": "OXyX8r-vvWMP"
      },
      "source": [
        "## Data Cleaning"
      ]
    },
    {
      "cell_type": "markdown",
      "metadata": {
        "id": "7yv8wXk2vZ8s"
      },
      "source": [
        "### Remove Outliers"
      ]
    },
    {
      "cell_type": "code",
      "execution_count": null,
      "metadata": {
        "id": "CZROUiXO1ugM"
      },
      "outputs": [],
      "source": [
        "#use copy so don't have to rerun time-hungry sections\n",
        "img_arr_copy = img_arr"
      ]
    },
    {
      "cell_type": "code",
      "execution_count": null,
      "metadata": {
        "id": "bCAg4k1PvfFm"
      },
      "outputs": [],
      "source": [
        "#gather index list of houses with price less than 100k or more than 800k\n",
        "list_to_remove = []\n",
        "for i, r in houseInfo.iterrows():\n",
        "  if (houseInfo.iloc[i]['price'] < 100000):\n",
        "    list_to_remove.append(i)\n",
        "  if (houseInfo.iloc[i]['price'] > 800000):\n",
        "    list_to_remove.append(i)\n",
        "\n",
        "#reverse list so indices being removed won't affect lower indices\n",
        "list_to_remove.reverse()"
      ]
    },
    {
      "cell_type": "code",
      "execution_count": null,
      "metadata": {
        "id": "_bVCuE6xzOrv"
      },
      "outputs": [],
      "source": [
        "#remove outlier houses from both datasets\n",
        "for item in list_to_remove:\n",
        "  houseInfo.drop([item], inplace=True)\n",
        "\n",
        "for item in list_to_remove:\n",
        "  img_arr_copy = np.delete(img_arr_copy, item, axis=0)"
      ]
    },
    {
      "cell_type": "markdown",
      "metadata": {
        "id": "8isdbXTv_25i"
      },
      "source": [
        "### Normalize input features"
      ]
    },
    {
      "cell_type": "code",
      "execution_count": null,
      "metadata": {
        "id": "LzBfjXqRACcK"
      },
      "outputs": [],
      "source": [
        "#normalize non-categorical features features\n",
        "from scipy.stats import zscore\n",
        "\n",
        "houseInfo_x = houseInfo.drop('price', axis=1)\n",
        "houseInfo_y = houseInfo['price']\n",
        "\n",
        "for col in houseInfo_x.columns:\n",
        "  if (col != 'zipcode'):\n",
        "    houseInfo_x[col] = zscore(houseInfo_x[col])"
      ]
    },
    {
      "cell_type": "code",
      "execution_count": null,
      "metadata": {
        "id": "zssEfdNXCM-Y"
      },
      "outputs": [],
      "source": [
        "#normalize categorical feature(s)\n",
        "#the only categorical feature is zipcode\n",
        "\n",
        "encode_text_dummy(houseInfo_x, 'zipcode')"
      ]
    },
    {
      "cell_type": "markdown",
      "metadata": {
        "id": "qOCQzWIP4z2B"
      },
      "source": [
        "### Split data into x and y"
      ]
    },
    {
      "cell_type": "code",
      "execution_count": null,
      "metadata": {
        "id": "t5p7aOBy8bI2"
      },
      "outputs": [],
      "source": [
        "#split textual data into x and y\n",
        "x = houseInfo_x\n",
        "\n",
        "#index messed up from removing rows\n",
        "x = x.reset_index()\n",
        "\n",
        "#new index column useless\n",
        "x = x.drop('index', axis=1)\n",
        "\n",
        "#numpy array for TensorFlow\n",
        "x = x.to_numpy()\n",
        "\n",
        "#same thing to y\n",
        "y = houseInfo_y\n",
        "y = y.reset_index()\n",
        "y = y.drop('index', axis=1)\n",
        "#y = y.to_numpy()"
      ]
    },
    {
      "cell_type": "markdown",
      "metadata": {
        "id": "ClB5Mb4jAPXp"
      },
      "source": [
        "### Split into train and test data"
      ]
    },
    {
      "cell_type": "code",
      "execution_count": null,
      "metadata": {
        "id": "vBxWd8Ww-7s7"
      },
      "outputs": [],
      "source": [
        "#split into x_train, x_test, y_train, and y_test\n",
        "\n",
        "#use same random_state so the random split is reproducable\n",
        "rand_state = 21\n",
        "t_size = 0.20\n",
        "\n",
        "#split both textual and image data\n",
        "x_train, x_test, x_train_img, x_test_img, y_train, y_test = train_test_split(x, img_arr_copy, y, test_size=t_size, random_state=rand_state)"
      ]
    },
    {
      "cell_type": "code",
      "execution_count": null,
      "metadata": {
        "colab": {
          "base_uri": "https://localhost:8080/"
        },
        "id": "Pw8y036TDJBx",
        "outputId": "08525a4d-d2cb-4742-d1b2-21174ab7f7f6"
      },
      "outputs": [
        {
          "data": {
            "text/plain": [
              "(300, 41)"
            ]
          },
          "execution_count": 26,
          "metadata": {},
          "output_type": "execute_result"
        }
      ],
      "source": [
        "x_train.shape"
      ]
    },
    {
      "cell_type": "code",
      "execution_count": null,
      "metadata": {
        "colab": {
          "base_uri": "https://localhost:8080/"
        },
        "id": "NtBHiqKkDI65",
        "outputId": "dc0d97ea-1058-44d7-bb42-d96d8be3872f"
      },
      "outputs": [
        {
          "data": {
            "text/plain": [
              "(76, 41)"
            ]
          },
          "execution_count": 27,
          "metadata": {},
          "output_type": "execute_result"
        }
      ],
      "source": [
        "x_test.shape"
      ]
    },
    {
      "cell_type": "code",
      "execution_count": null,
      "metadata": {
        "colab": {
          "base_uri": "https://localhost:8080/"
        },
        "id": "FVbmX4oJDI0Z",
        "outputId": "5f26abc7-c3cb-4dd8-d589-a17d3d0a05cc"
      },
      "outputs": [
        {
          "data": {
            "text/plain": [
              "(300, 1)"
            ]
          },
          "execution_count": 28,
          "metadata": {},
          "output_type": "execute_result"
        }
      ],
      "source": [
        "y_train.shape"
      ]
    },
    {
      "cell_type": "code",
      "execution_count": null,
      "metadata": {
        "colab": {
          "base_uri": "https://localhost:8080/"
        },
        "id": "YI4o2OyKDItM",
        "outputId": "f5826a1c-1f6e-48ec-807f-aec97b73c762"
      },
      "outputs": [
        {
          "data": {
            "text/plain": [
              "(76, 1)"
            ]
          },
          "execution_count": 29,
          "metadata": {},
          "output_type": "execute_result"
        }
      ],
      "source": [
        "y_test.shape"
      ]
    },
    {
      "cell_type": "code",
      "execution_count": null,
      "metadata": {
        "colab": {
          "base_uri": "https://localhost:8080/"
        },
        "id": "6KIB9NFklB4d",
        "outputId": "ca46e93c-cdca-49ab-e0f4-e6c57c924bbd"
      },
      "outputs": [
        {
          "data": {
            "text/plain": [
              "(300, 128, 128, 3)"
            ]
          },
          "execution_count": 30,
          "metadata": {},
          "output_type": "execute_result"
        }
      ],
      "source": [
        "x_train_img.shape"
      ]
    },
    {
      "cell_type": "code",
      "execution_count": null,
      "metadata": {
        "colab": {
          "base_uri": "https://localhost:8080/"
        },
        "id": "sdJGhZi5lBiL",
        "outputId": "6a159e33-4586-4973-96ef-73c5efe3946a"
      },
      "outputs": [
        {
          "data": {
            "text/plain": [
              "(76, 128, 128, 3)"
            ]
          },
          "execution_count": 31,
          "metadata": {},
          "output_type": "execute_result"
        }
      ],
      "source": [
        "x_test_img.shape"
      ]
    },
    {
      "cell_type": "markdown",
      "metadata": {
        "id": "YwZHOesykL0h"
      },
      "source": [
        "## Designing Model"
      ]
    },
    {
      "cell_type": "markdown",
      "metadata": {
        "id": "keqGBP3ZZ2gF"
      },
      "source": [
        "### Creating Dense Model"
      ]
    },
    {
      "cell_type": "code",
      "execution_count": null,
      "metadata": {
        "id": "A8Q9yUChaAsp"
      },
      "outputs": [],
      "source": [
        "from tensorflow.keras.models import Model\n",
        "from tensorflow.keras.layers import Input\n",
        "from tensorflow.keras.layers import Dense\n",
        "\n",
        "from tensorflow.keras.utils import plot_model\n",
        "\n",
        "act = 'relu'\n",
        "\n",
        "visible1 = Input(shape=(x_train.shape[1],))\n",
        "\n",
        "hidden1_1 = Dense(20, activation=act)(visible1)\n",
        "output1 = Dense(1, activation=act)(hidden1_1)\n"
      ]
    },
    {
      "cell_type": "code",
      "execution_count": null,
      "metadata": {
        "colab": {
          "base_uri": "https://localhost:8080/"
        },
        "id": "woEQHNye0CIP",
        "outputId": "5416ecf9-6ae3-4b29-e9e6-1d48fb0f7f22"
      },
      "outputs": [
        {
          "name": "stdout",
          "output_type": "stream",
          "text": [
            "Epoch 1/600\n",
            "10/10 - 1s - loss: 239835840512.0000 - val_loss: 257889075200.0000 - 1s/epoch - 125ms/step\n",
            "Epoch 2/600\n",
            "10/10 - 0s - loss: 239782428672.0000 - val_loss: 257778384896.0000 - 69ms/epoch - 7ms/step\n",
            "Epoch 3/600\n",
            "10/10 - 0s - loss: 239647522816.0000 - val_loss: 257557692416.0000 - 77ms/epoch - 8ms/step\n",
            "Epoch 4/600\n",
            "10/10 - 0s - loss: 239399239680.0000 - val_loss: 257191362560.0000 - 82ms/epoch - 8ms/step\n",
            "Epoch 5/600\n",
            "10/10 - 0s - loss: 239002435584.0000 - val_loss: 256650952704.0000 - 63ms/epoch - 6ms/step\n",
            "Epoch 6/600\n",
            "10/10 - 0s - loss: 238432124928.0000 - val_loss: 255921586176.0000 - 54ms/epoch - 5ms/step\n",
            "Epoch 7/600\n",
            "10/10 - 0s - loss: 237678575616.0000 - val_loss: 254994481152.0000 - 64ms/epoch - 6ms/step\n",
            "Epoch 8/600\n",
            "10/10 - 0s - loss: 236734152704.0000 - val_loss: 253852958720.0000 - 61ms/epoch - 6ms/step\n",
            "Epoch 9/600\n",
            "10/10 - 0s - loss: 235608375296.0000 - val_loss: 252512272384.0000 - 49ms/epoch - 5ms/step\n",
            "Epoch 10/600\n",
            "10/10 - 0s - loss: 234261512192.0000 - val_loss: 250983120896.0000 - 62ms/epoch - 6ms/step\n",
            "Epoch 11/600\n",
            "10/10 - 0s - loss: 232740257792.0000 - val_loss: 249224167424.0000 - 46ms/epoch - 5ms/step\n",
            "Epoch 12/600\n",
            "10/10 - 0s - loss: 231033126912.0000 - val_loss: 247237443584.0000 - 62ms/epoch - 6ms/step\n",
            "Epoch 13/600\n",
            "10/10 - 0s - loss: 229110480896.0000 - val_loss: 245077065728.0000 - 60ms/epoch - 6ms/step\n",
            "Epoch 14/600\n",
            "10/10 - 0s - loss: 227001778176.0000 - val_loss: 242710953984.0000 - 50ms/epoch - 5ms/step\n",
            "Epoch 15/600\n",
            "10/10 - 0s - loss: 224728547328.0000 - val_loss: 240174563328.0000 - 44ms/epoch - 4ms/step\n",
            "Epoch 16/600\n",
            "10/10 - 0s - loss: 222256480256.0000 - val_loss: 237430276096.0000 - 62ms/epoch - 6ms/step\n",
            "Epoch 17/600\n",
            "10/10 - 0s - loss: 219669626880.0000 - val_loss: 234497654784.0000 - 72ms/epoch - 7ms/step\n",
            "Epoch 18/600\n",
            "10/10 - 0s - loss: 216862441472.0000 - val_loss: 231466385408.0000 - 66ms/epoch - 7ms/step\n",
            "Epoch 19/600\n",
            "10/10 - 0s - loss: 213986902016.0000 - val_loss: 228219617280.0000 - 44ms/epoch - 4ms/step\n",
            "Epoch 20/600\n",
            "10/10 - 0s - loss: 210843222016.0000 - val_loss: 224882966528.0000 - 49ms/epoch - 5ms/step\n",
            "Epoch 21/600\n",
            "10/10 - 0s - loss: 207683207168.0000 - val_loss: 221355442176.0000 - 44ms/epoch - 4ms/step\n",
            "Epoch 22/600\n",
            "10/10 - 0s - loss: 204326895616.0000 - val_loss: 217699811328.0000 - 47ms/epoch - 5ms/step\n",
            "Epoch 23/600\n",
            "10/10 - 0s - loss: 200871526400.0000 - val_loss: 213939437568.0000 - 62ms/epoch - 6ms/step\n",
            "Epoch 24/600\n",
            "10/10 - 0s - loss: 197328781312.0000 - val_loss: 209982717952.0000 - 62ms/epoch - 6ms/step\n",
            "Epoch 25/600\n",
            "10/10 - 0s - loss: 193600126976.0000 - val_loss: 206034239488.0000 - 59ms/epoch - 6ms/step\n",
            "Epoch 26/600\n",
            "10/10 - 0s - loss: 189874978816.0000 - val_loss: 201981902848.0000 - 47ms/epoch - 5ms/step\n",
            "Epoch 27/600\n",
            "10/10 - 0s - loss: 186033881088.0000 - val_loss: 197870469120.0000 - 51ms/epoch - 5ms/step\n",
            "Epoch 28/600\n",
            "10/10 - 0s - loss: 182159769600.0000 - val_loss: 193630404608.0000 - 62ms/epoch - 6ms/step\n",
            "Epoch 29/600\n",
            "10/10 - 0s - loss: 178168070144.0000 - val_loss: 189375086592.0000 - 61ms/epoch - 6ms/step\n",
            "Epoch 30/600\n",
            "10/10 - 0s - loss: 174179401728.0000 - val_loss: 185016123392.0000 - 47ms/epoch - 5ms/step\n",
            "Epoch 31/600\n",
            "10/10 - 0s - loss: 170094788608.0000 - val_loss: 180595671040.0000 - 61ms/epoch - 6ms/step\n",
            "Epoch 32/600\n",
            "10/10 - 0s - loss: 165990301696.0000 - val_loss: 176217063424.0000 - 48ms/epoch - 5ms/step\n",
            "Epoch 33/600\n",
            "10/10 - 0s - loss: 161832468480.0000 - val_loss: 171843092480.0000 - 62ms/epoch - 6ms/step\n",
            "Epoch 34/600\n",
            "10/10 - 0s - loss: 157794992128.0000 - val_loss: 167350779904.0000 - 56ms/epoch - 6ms/step\n",
            "Epoch 35/600\n",
            "10/10 - 0s - loss: 153622036480.0000 - val_loss: 163002220544.0000 - 64ms/epoch - 6ms/step\n",
            "Epoch 36/600\n",
            "10/10 - 0s - loss: 149568700416.0000 - val_loss: 158621941760.0000 - 48ms/epoch - 5ms/step\n",
            "Epoch 37/600\n",
            "10/10 - 0s - loss: 145489952768.0000 - val_loss: 154280820736.0000 - 47ms/epoch - 5ms/step\n",
            "Epoch 38/600\n",
            "10/10 - 0s - loss: 141422936064.0000 - val_loss: 149928296448.0000 - 45ms/epoch - 4ms/step\n",
            "Epoch 39/600\n",
            "10/10 - 0s - loss: 137392422912.0000 - val_loss: 145607606272.0000 - 44ms/epoch - 4ms/step\n",
            "Epoch 40/600\n",
            "10/10 - 0s - loss: 133367111680.0000 - val_loss: 141354418176.0000 - 59ms/epoch - 6ms/step\n",
            "Epoch 41/600\n",
            "10/10 - 0s - loss: 129395113984.0000 - val_loss: 137090301952.0000 - 44ms/epoch - 4ms/step\n",
            "Epoch 42/600\n",
            "10/10 - 0s - loss: 125461233664.0000 - val_loss: 132865974272.0000 - 47ms/epoch - 5ms/step\n",
            "Epoch 43/600\n",
            "10/10 - 0s - loss: 121538330624.0000 - val_loss: 128725131264.0000 - 58ms/epoch - 6ms/step\n",
            "Epoch 44/600\n",
            "10/10 - 0s - loss: 117749309440.0000 - val_loss: 124612026368.0000 - 63ms/epoch - 6ms/step\n",
            "Epoch 45/600\n",
            "10/10 - 0s - loss: 113982504960.0000 - val_loss: 120593702912.0000 - 50ms/epoch - 5ms/step\n",
            "Epoch 46/600\n",
            "10/10 - 0s - loss: 110274420736.0000 - val_loss: 116729978880.0000 - 64ms/epoch - 6ms/step\n",
            "Epoch 47/600\n",
            "10/10 - 0s - loss: 106748805120.0000 - val_loss: 112954155008.0000 - 61ms/epoch - 6ms/step\n",
            "Epoch 48/600\n",
            "10/10 - 0s - loss: 103260667904.0000 - val_loss: 109341876224.0000 - 48ms/epoch - 5ms/step\n",
            "Epoch 49/600\n",
            "10/10 - 0s - loss: 99939876864.0000 - val_loss: 105832095744.0000 - 44ms/epoch - 4ms/step\n",
            "Epoch 50/600\n",
            "10/10 - 0s - loss: 96639451136.0000 - val_loss: 102405586944.0000 - 60ms/epoch - 6ms/step\n",
            "Epoch 51/600\n",
            "10/10 - 0s - loss: 93522395136.0000 - val_loss: 99046440960.0000 - 44ms/epoch - 4ms/step\n",
            "Epoch 52/600\n",
            "10/10 - 0s - loss: 90361241600.0000 - val_loss: 95830106112.0000 - 53ms/epoch - 5ms/step\n",
            "Epoch 53/600\n",
            "10/10 - 0s - loss: 87393263616.0000 - val_loss: 92655124480.0000 - 48ms/epoch - 5ms/step\n",
            "Epoch 54/600\n",
            "10/10 - 0s - loss: 84487905280.0000 - val_loss: 89576300544.0000 - 47ms/epoch - 5ms/step\n",
            "Epoch 55/600\n",
            "10/10 - 0s - loss: 81550401536.0000 - val_loss: 86616293376.0000 - 47ms/epoch - 5ms/step\n",
            "Epoch 56/600\n",
            "10/10 - 0s - loss: 78801608704.0000 - val_loss: 83651166208.0000 - 61ms/epoch - 6ms/step\n",
            "Epoch 57/600\n",
            "10/10 - 0s - loss: 76100763648.0000 - val_loss: 80833593344.0000 - 65ms/epoch - 7ms/step\n",
            "Epoch 58/600\n",
            "10/10 - 0s - loss: 73449865216.0000 - val_loss: 78172446720.0000 - 59ms/epoch - 6ms/step\n",
            "Epoch 59/600\n",
            "10/10 - 0s - loss: 70941392896.0000 - val_loss: 75569217536.0000 - 49ms/epoch - 5ms/step\n",
            "Epoch 60/600\n",
            "10/10 - 0s - loss: 68572327936.0000 - val_loss: 73019998208.0000 - 44ms/epoch - 4ms/step\n",
            "Epoch 61/600\n",
            "10/10 - 0s - loss: 66158772224.0000 - val_loss: 70681444352.0000 - 64ms/epoch - 6ms/step\n",
            "Epoch 62/600\n",
            "10/10 - 0s - loss: 63928385536.0000 - val_loss: 68409499648.0000 - 62ms/epoch - 6ms/step\n",
            "Epoch 63/600\n",
            "10/10 - 0s - loss: 61763592192.0000 - val_loss: 66256633856.0000 - 63ms/epoch - 6ms/step\n",
            "Epoch 64/600\n",
            "10/10 - 0s - loss: 59732643840.0000 - val_loss: 64175550464.0000 - 61ms/epoch - 6ms/step\n",
            "Epoch 65/600\n",
            "10/10 - 0s - loss: 57700859904.0000 - val_loss: 62208000000.0000 - 47ms/epoch - 5ms/step\n",
            "Epoch 66/600\n",
            "10/10 - 0s - loss: 55792959488.0000 - val_loss: 60375392256.0000 - 44ms/epoch - 4ms/step\n",
            "Epoch 67/600\n",
            "10/10 - 0s - loss: 54023675904.0000 - val_loss: 58651725824.0000 - 48ms/epoch - 5ms/step\n",
            "Epoch 68/600\n",
            "10/10 - 0s - loss: 52293451776.0000 - val_loss: 56988807168.0000 - 51ms/epoch - 5ms/step\n",
            "Epoch 69/600\n",
            "10/10 - 0s - loss: 50683363328.0000 - val_loss: 55376424960.0000 - 52ms/epoch - 5ms/step\n",
            "Epoch 70/600\n",
            "10/10 - 0s - loss: 49095716864.0000 - val_loss: 53856681984.0000 - 71ms/epoch - 7ms/step\n",
            "Epoch 71/600\n",
            "10/10 - 0s - loss: 47599316992.0000 - val_loss: 52435001344.0000 - 70ms/epoch - 7ms/step\n",
            "Epoch 72/600\n",
            "10/10 - 0s - loss: 46186622976.0000 - val_loss: 51120050176.0000 - 44ms/epoch - 4ms/step\n",
            "Epoch 73/600\n",
            "10/10 - 0s - loss: 44905684992.0000 - val_loss: 49858146304.0000 - 63ms/epoch - 6ms/step\n",
            "Epoch 74/600\n",
            "10/10 - 0s - loss: 43649363968.0000 - val_loss: 48667308032.0000 - 52ms/epoch - 5ms/step\n",
            "Epoch 75/600\n",
            "10/10 - 0s - loss: 42416529408.0000 - val_loss: 47576764416.0000 - 50ms/epoch - 5ms/step\n",
            "Epoch 76/600\n",
            "10/10 - 0s - loss: 41304264704.0000 - val_loss: 46510321664.0000 - 54ms/epoch - 5ms/step\n",
            "Epoch 77/600\n",
            "10/10 - 0s - loss: 40222109696.0000 - val_loss: 45498331136.0000 - 61ms/epoch - 6ms/step\n",
            "Epoch 78/600\n",
            "10/10 - 0s - loss: 39204528128.0000 - val_loss: 44533866496.0000 - 60ms/epoch - 6ms/step\n",
            "Epoch 79/600\n",
            "10/10 - 0s - loss: 38231490560.0000 - val_loss: 43593551872.0000 - 45ms/epoch - 4ms/step\n",
            "Epoch 80/600\n",
            "10/10 - 0s - loss: 37248757760.0000 - val_loss: 42737172480.0000 - 62ms/epoch - 6ms/step\n",
            "Epoch 81/600\n",
            "10/10 - 0s - loss: 36360318976.0000 - val_loss: 41943363584.0000 - 59ms/epoch - 6ms/step\n",
            "Epoch 82/600\n",
            "10/10 - 0s - loss: 35510325248.0000 - val_loss: 41214869504.0000 - 62ms/epoch - 6ms/step\n",
            "Epoch 83/600\n",
            "10/10 - 0s - loss: 34727088128.0000 - val_loss: 40457715712.0000 - 44ms/epoch - 4ms/step\n",
            "Epoch 84/600\n",
            "10/10 - 0s - loss: 33922377728.0000 - val_loss: 39738638336.0000 - 64ms/epoch - 6ms/step\n",
            "Epoch 85/600\n",
            "10/10 - 0s - loss: 33109688320.0000 - val_loss: 39102894080.0000 - 50ms/epoch - 5ms/step\n",
            "Epoch 86/600\n",
            "10/10 - 0s - loss: 32399548416.0000 - val_loss: 38437216256.0000 - 62ms/epoch - 6ms/step\n",
            "Epoch 87/600\n",
            "10/10 - 0s - loss: 31726497792.0000 - val_loss: 37833572352.0000 - 48ms/epoch - 5ms/step\n",
            "Epoch 88/600\n",
            "10/10 - 0s - loss: 31065577472.0000 - val_loss: 37247451136.0000 - 63ms/epoch - 6ms/step\n",
            "Epoch 89/600\n",
            "10/10 - 0s - loss: 30430556160.0000 - val_loss: 36677341184.0000 - 49ms/epoch - 5ms/step\n",
            "Epoch 90/600\n",
            "10/10 - 0s - loss: 29833291776.0000 - val_loss: 36109840384.0000 - 60ms/epoch - 6ms/step\n",
            "Epoch 91/600\n",
            "10/10 - 0s - loss: 29242902528.0000 - val_loss: 35540434944.0000 - 61ms/epoch - 6ms/step\n",
            "Epoch 92/600\n",
            "10/10 - 0s - loss: 28619245568.0000 - val_loss: 35009015808.0000 - 46ms/epoch - 5ms/step\n",
            "Epoch 93/600\n",
            "10/10 - 0s - loss: 28089475072.0000 - val_loss: 34502078464.0000 - 50ms/epoch - 5ms/step\n",
            "Epoch 94/600\n",
            "10/10 - 0s - loss: 27602120704.0000 - val_loss: 34015801344.0000 - 60ms/epoch - 6ms/step\n",
            "Epoch 95/600\n",
            "10/10 - 0s - loss: 27101046784.0000 - val_loss: 33578270720.0000 - 46ms/epoch - 5ms/step\n",
            "Epoch 96/600\n",
            "10/10 - 0s - loss: 26632953856.0000 - val_loss: 33152483328.0000 - 47ms/epoch - 5ms/step\n",
            "Epoch 97/600\n",
            "10/10 - 0s - loss: 26198024192.0000 - val_loss: 32711270400.0000 - 58ms/epoch - 6ms/step\n",
            "Epoch 98/600\n",
            "10/10 - 0s - loss: 25772359680.0000 - val_loss: 32307423232.0000 - 68ms/epoch - 7ms/step\n",
            "Epoch 99/600\n",
            "10/10 - 0s - loss: 25364209664.0000 - val_loss: 31905556480.0000 - 47ms/epoch - 5ms/step\n",
            "Epoch 100/600\n",
            "10/10 - 0s - loss: 24987353088.0000 - val_loss: 31513792512.0000 - 60ms/epoch - 6ms/step\n",
            "Epoch 101/600\n",
            "10/10 - 0s - loss: 24622075904.0000 - val_loss: 31151030272.0000 - 47ms/epoch - 5ms/step\n",
            "Epoch 102/600\n",
            "10/10 - 0s - loss: 24258588672.0000 - val_loss: 30730219520.0000 - 61ms/epoch - 6ms/step\n",
            "Epoch 103/600\n",
            "10/10 - 0s - loss: 23912302592.0000 - val_loss: 30326798336.0000 - 44ms/epoch - 4ms/step\n",
            "Epoch 104/600\n",
            "10/10 - 0s - loss: 23577982976.0000 - val_loss: 29947193344.0000 - 57ms/epoch - 6ms/step\n",
            "Epoch 105/600\n",
            "10/10 - 0s - loss: 23243024384.0000 - val_loss: 29579669504.0000 - 58ms/epoch - 6ms/step\n",
            "Epoch 106/600\n",
            "10/10 - 0s - loss: 22919333888.0000 - val_loss: 29211854848.0000 - 44ms/epoch - 4ms/step\n",
            "Epoch 107/600\n",
            "10/10 - 0s - loss: 22614644736.0000 - val_loss: 28846684160.0000 - 61ms/epoch - 6ms/step\n",
            "Epoch 108/600\n",
            "10/10 - 0s - loss: 22321494016.0000 - val_loss: 28473917440.0000 - 59ms/epoch - 6ms/step\n",
            "Epoch 109/600\n",
            "10/10 - 0s - loss: 22027986944.0000 - val_loss: 28162226176.0000 - 60ms/epoch - 6ms/step\n",
            "Epoch 110/600\n",
            "10/10 - 0s - loss: 21764444160.0000 - val_loss: 27830173696.0000 - 48ms/epoch - 5ms/step\n",
            "Epoch 111/600\n",
            "10/10 - 0s - loss: 21489944576.0000 - val_loss: 27541911552.0000 - 72ms/epoch - 7ms/step\n",
            "Epoch 112/600\n",
            "10/10 - 0s - loss: 21244585984.0000 - val_loss: 27199072256.0000 - 58ms/epoch - 6ms/step\n",
            "Epoch 113/600\n",
            "10/10 - 0s - loss: 21002659840.0000 - val_loss: 26842290176.0000 - 45ms/epoch - 5ms/step\n",
            "Epoch 114/600\n",
            "10/10 - 0s - loss: 20768778240.0000 - val_loss: 26512678912.0000 - 47ms/epoch - 5ms/step\n",
            "Epoch 115/600\n",
            "10/10 - 0s - loss: 20527382528.0000 - val_loss: 26203213824.0000 - 43ms/epoch - 4ms/step\n",
            "Epoch 116/600\n",
            "10/10 - 0s - loss: 20303415296.0000 - val_loss: 25864691712.0000 - 58ms/epoch - 6ms/step\n",
            "Epoch 117/600\n",
            "10/10 - 0s - loss: 20079992832.0000 - val_loss: 25564250112.0000 - 43ms/epoch - 4ms/step\n",
            "Epoch 118/600\n",
            "10/10 - 0s - loss: 19865372672.0000 - val_loss: 25265569792.0000 - 45ms/epoch - 5ms/step\n",
            "Epoch 119/600\n",
            "10/10 - 0s - loss: 19662895104.0000 - val_loss: 24979783680.0000 - 63ms/epoch - 6ms/step\n",
            "Epoch 120/600\n",
            "10/10 - 0s - loss: 19463303168.0000 - val_loss: 24704737280.0000 - 47ms/epoch - 5ms/step\n",
            "Epoch 121/600\n",
            "10/10 - 0s - loss: 19263825920.0000 - val_loss: 24414337024.0000 - 43ms/epoch - 4ms/step\n",
            "Epoch 122/600\n",
            "10/10 - 0s - loss: 19096229888.0000 - val_loss: 24129695744.0000 - 64ms/epoch - 6ms/step\n",
            "Epoch 123/600\n",
            "10/10 - 0s - loss: 18904059904.0000 - val_loss: 23838048256.0000 - 60ms/epoch - 6ms/step\n",
            "Epoch 124/600\n",
            "10/10 - 0s - loss: 18722099200.0000 - val_loss: 23599736832.0000 - 49ms/epoch - 5ms/step\n",
            "Epoch 125/600\n",
            "10/10 - 0s - loss: 18541350912.0000 - val_loss: 23339108352.0000 - 58ms/epoch - 6ms/step\n",
            "Epoch 126/600\n",
            "10/10 - 0s - loss: 18386743296.0000 - val_loss: 23057598464.0000 - 62ms/epoch - 6ms/step\n",
            "Epoch 127/600\n",
            "10/10 - 0s - loss: 18208045056.0000 - val_loss: 22785384448.0000 - 62ms/epoch - 6ms/step\n",
            "Epoch 128/600\n",
            "10/10 - 0s - loss: 18051956736.0000 - val_loss: 22518315008.0000 - 63ms/epoch - 6ms/step\n",
            "Epoch 129/600\n",
            "10/10 - 0s - loss: 17891588096.0000 - val_loss: 22262824960.0000 - 60ms/epoch - 6ms/step\n",
            "Epoch 130/600\n",
            "10/10 - 0s - loss: 17757134848.0000 - val_loss: 21996476416.0000 - 61ms/epoch - 6ms/step\n",
            "Epoch 131/600\n",
            "10/10 - 0s - loss: 17594759168.0000 - val_loss: 21731178496.0000 - 58ms/epoch - 6ms/step\n",
            "Epoch 132/600\n",
            "10/10 - 0s - loss: 17457586176.0000 - val_loss: 21508505600.0000 - 46ms/epoch - 5ms/step\n",
            "Epoch 133/600\n",
            "10/10 - 0s - loss: 17314340864.0000 - val_loss: 21247623168.0000 - 46ms/epoch - 5ms/step\n",
            "Epoch 134/600\n",
            "10/10 - 0s - loss: 17176112128.0000 - val_loss: 20990205952.0000 - 45ms/epoch - 5ms/step\n",
            "Epoch 135/600\n",
            "10/10 - 0s - loss: 17027603456.0000 - val_loss: 20740222976.0000 - 42ms/epoch - 4ms/step\n",
            "Epoch 136/600\n",
            "10/10 - 0s - loss: 16876895232.0000 - val_loss: 20536344576.0000 - 44ms/epoch - 4ms/step\n",
            "Epoch 137/600\n",
            "10/10 - 0s - loss: 16757078016.0000 - val_loss: 20244047872.0000 - 49ms/epoch - 5ms/step\n",
            "Epoch 138/600\n",
            "10/10 - 0s - loss: 16599141376.0000 - val_loss: 20011816960.0000 - 60ms/epoch - 6ms/step\n",
            "Epoch 139/600\n",
            "10/10 - 0s - loss: 16460733440.0000 - val_loss: 19783004160.0000 - 63ms/epoch - 6ms/step\n",
            "Epoch 140/600\n",
            "10/10 - 0s - loss: 16331455488.0000 - val_loss: 19564988416.0000 - 65ms/epoch - 6ms/step\n",
            "Epoch 141/600\n",
            "10/10 - 0s - loss: 16197875712.0000 - val_loss: 19333199872.0000 - 64ms/epoch - 6ms/step\n",
            "Epoch 142/600\n",
            "10/10 - 0s - loss: 16058318848.0000 - val_loss: 19160352768.0000 - 44ms/epoch - 4ms/step\n",
            "Epoch 143/600\n",
            "10/10 - 0s - loss: 15940373504.0000 - val_loss: 18936678400.0000 - 61ms/epoch - 6ms/step\n",
            "Epoch 144/600\n",
            "10/10 - 0s - loss: 15824913408.0000 - val_loss: 18714191872.0000 - 60ms/epoch - 6ms/step\n",
            "Epoch 145/600\n",
            "10/10 - 0s - loss: 15694630912.0000 - val_loss: 18556692480.0000 - 47ms/epoch - 5ms/step\n",
            "Epoch 146/600\n",
            "10/10 - 0s - loss: 15587353600.0000 - val_loss: 18381914112.0000 - 45ms/epoch - 4ms/step\n",
            "Epoch 147/600\n",
            "10/10 - 0s - loss: 15487929344.0000 - val_loss: 18239565824.0000 - 44ms/epoch - 4ms/step\n",
            "Epoch 148/600\n",
            "10/10 - 0s - loss: 15370935296.0000 - val_loss: 18008948736.0000 - 61ms/epoch - 6ms/step\n",
            "Epoch 149/600\n",
            "10/10 - 0s - loss: 15268921344.0000 - val_loss: 17835104256.0000 - 60ms/epoch - 6ms/step\n",
            "Epoch 150/600\n",
            "10/10 - 0s - loss: 15161500672.0000 - val_loss: 17671968768.0000 - 50ms/epoch - 5ms/step\n",
            "Epoch 151/600\n",
            "10/10 - 0s - loss: 15067944960.0000 - val_loss: 17503518720.0000 - 48ms/epoch - 5ms/step\n",
            "Epoch 152/600\n",
            "10/10 - 0s - loss: 14978920448.0000 - val_loss: 17341556736.0000 - 45ms/epoch - 4ms/step\n",
            "Epoch 153/600\n",
            "10/10 - 0s - loss: 14889183232.0000 - val_loss: 17186125824.0000 - 49ms/epoch - 5ms/step\n",
            "Epoch 154/600\n",
            "10/10 - 0s - loss: 14795577344.0000 - val_loss: 17071011840.0000 - 60ms/epoch - 6ms/step\n",
            "Epoch 155/600\n",
            "10/10 - 0s - loss: 14708279296.0000 - val_loss: 16928956416.0000 - 60ms/epoch - 6ms/step\n",
            "Epoch 156/600\n",
            "10/10 - 0s - loss: 14623313920.0000 - val_loss: 16816254976.0000 - 45ms/epoch - 4ms/step\n",
            "Epoch 157/600\n",
            "10/10 - 0s - loss: 14537056256.0000 - val_loss: 16674138112.0000 - 62ms/epoch - 6ms/step\n",
            "Epoch 158/600\n",
            "10/10 - 0s - loss: 14458660864.0000 - val_loss: 16580002816.0000 - 46ms/epoch - 5ms/step\n",
            "Epoch 159/600\n",
            "10/10 - 0s - loss: 14373923840.0000 - val_loss: 16451003392.0000 - 45ms/epoch - 4ms/step\n",
            "Epoch 160/600\n",
            "10/10 - 0s - loss: 14286388224.0000 - val_loss: 16345099264.0000 - 63ms/epoch - 6ms/step\n",
            "Epoch 161/600\n",
            "10/10 - 0s - loss: 14209292288.0000 - val_loss: 16211450880.0000 - 50ms/epoch - 5ms/step\n",
            "Epoch 162/600\n",
            "10/10 - 0s - loss: 14142048256.0000 - val_loss: 16033624064.0000 - 46ms/epoch - 5ms/step\n",
            "Epoch 163/600\n",
            "10/10 - 0s - loss: 14053553152.0000 - val_loss: 15931118592.0000 - 54ms/epoch - 5ms/step\n",
            "Epoch 164/600\n",
            "10/10 - 0s - loss: 13975018496.0000 - val_loss: 15820433408.0000 - 45ms/epoch - 5ms/step\n",
            "Epoch 165/600\n",
            "10/10 - 0s - loss: 13894553600.0000 - val_loss: 15679299584.0000 - 62ms/epoch - 6ms/step\n",
            "Epoch 166/600\n",
            "10/10 - 0s - loss: 13808122880.0000 - val_loss: 15582608384.0000 - 62ms/epoch - 6ms/step\n",
            "Epoch 167/600\n",
            "10/10 - 0s - loss: 13732926464.0000 - val_loss: 15480392704.0000 - 47ms/epoch - 5ms/step\n",
            "Epoch 168/600\n",
            "10/10 - 0s - loss: 13652631552.0000 - val_loss: 15364721664.0000 - 46ms/epoch - 5ms/step\n",
            "Epoch 169/600\n",
            "10/10 - 0s - loss: 13567456256.0000 - val_loss: 15251406848.0000 - 62ms/epoch - 6ms/step\n",
            "Epoch 170/600\n",
            "10/10 - 0s - loss: 13492269056.0000 - val_loss: 15114991616.0000 - 64ms/epoch - 6ms/step\n",
            "Epoch 171/600\n",
            "10/10 - 0s - loss: 13407997952.0000 - val_loss: 15033665536.0000 - 47ms/epoch - 5ms/step\n",
            "Epoch 172/600\n",
            "10/10 - 0s - loss: 13332625408.0000 - val_loss: 14914470912.0000 - 60ms/epoch - 6ms/step\n",
            "Epoch 173/600\n",
            "10/10 - 0s - loss: 13260769280.0000 - val_loss: 14802328576.0000 - 43ms/epoch - 4ms/step\n",
            "Epoch 174/600\n",
            "10/10 - 0s - loss: 13194994688.0000 - val_loss: 14718523392.0000 - 45ms/epoch - 5ms/step\n",
            "Epoch 175/600\n",
            "10/10 - 0s - loss: 13130685440.0000 - val_loss: 14651871232.0000 - 48ms/epoch - 5ms/step\n",
            "Epoch 176/600\n",
            "10/10 - 0s - loss: 13059861504.0000 - val_loss: 14547965952.0000 - 57ms/epoch - 6ms/step\n",
            "Epoch 177/600\n",
            "10/10 - 0s - loss: 12992531456.0000 - val_loss: 14439152640.0000 - 61ms/epoch - 6ms/step\n",
            "Epoch 178/600\n",
            "10/10 - 0s - loss: 12945571840.0000 - val_loss: 14310079488.0000 - 76ms/epoch - 8ms/step\n",
            "Epoch 179/600\n",
            "10/10 - 0s - loss: 12872367104.0000 - val_loss: 14229630976.0000 - 89ms/epoch - 9ms/step\n",
            "Epoch 180/600\n",
            "10/10 - 0s - loss: 12815700992.0000 - val_loss: 14149365760.0000 - 86ms/epoch - 9ms/step\n",
            "Epoch 181/600\n",
            "10/10 - 0s - loss: 12763853824.0000 - val_loss: 14070994944.0000 - 75ms/epoch - 7ms/step\n",
            "Epoch 182/600\n",
            "10/10 - 0s - loss: 12708076544.0000 - val_loss: 13990745088.0000 - 63ms/epoch - 6ms/step\n",
            "Epoch 183/600\n",
            "10/10 - 0s - loss: 12653747200.0000 - val_loss: 13909733376.0000 - 76ms/epoch - 8ms/step\n",
            "Epoch 184/600\n",
            "10/10 - 0s - loss: 12599700480.0000 - val_loss: 13813302272.0000 - 75ms/epoch - 8ms/step\n",
            "Epoch 185/600\n",
            "10/10 - 0s - loss: 12541764608.0000 - val_loss: 13727983616.0000 - 82ms/epoch - 8ms/step\n",
            "Epoch 186/600\n",
            "10/10 - 0s - loss: 12498406400.0000 - val_loss: 13677542400.0000 - 65ms/epoch - 6ms/step\n",
            "Epoch 187/600\n",
            "10/10 - 0s - loss: 12445855744.0000 - val_loss: 13597450240.0000 - 61ms/epoch - 6ms/step\n",
            "Epoch 188/600\n",
            "10/10 - 0s - loss: 12394122240.0000 - val_loss: 13547910144.0000 - 61ms/epoch - 6ms/step\n",
            "Epoch 189/600\n",
            "10/10 - 0s - loss: 12337584128.0000 - val_loss: 13471435776.0000 - 79ms/epoch - 8ms/step\n",
            "Epoch 190/600\n",
            "10/10 - 0s - loss: 12283084800.0000 - val_loss: 13392616448.0000 - 84ms/epoch - 8ms/step\n",
            "Epoch 191/600\n",
            "10/10 - 0s - loss: 12224568320.0000 - val_loss: 13309216768.0000 - 60ms/epoch - 6ms/step\n",
            "Epoch 192/600\n",
            "10/10 - 0s - loss: 12176594944.0000 - val_loss: 13242633216.0000 - 65ms/epoch - 7ms/step\n",
            "Epoch 193/600\n",
            "10/10 - 0s - loss: 12128385024.0000 - val_loss: 13165078528.0000 - 80ms/epoch - 8ms/step\n",
            "Epoch 194/600\n",
            "10/10 - 0s - loss: 12079703040.0000 - val_loss: 13124265984.0000 - 79ms/epoch - 8ms/step\n",
            "Epoch 195/600\n",
            "10/10 - 0s - loss: 12033134592.0000 - val_loss: 13056192512.0000 - 76ms/epoch - 8ms/step\n",
            "Epoch 196/600\n",
            "10/10 - 0s - loss: 11991115776.0000 - val_loss: 12988463104.0000 - 80ms/epoch - 8ms/step\n",
            "Epoch 197/600\n",
            "10/10 - 0s - loss: 11943393280.0000 - val_loss: 12962865152.0000 - 65ms/epoch - 7ms/step\n",
            "Epoch 198/600\n",
            "10/10 - 0s - loss: 11891345408.0000 - val_loss: 12911003648.0000 - 80ms/epoch - 8ms/step\n",
            "Epoch 199/600\n",
            "10/10 - 0s - loss: 11856531456.0000 - val_loss: 12842216448.0000 - 88ms/epoch - 9ms/step\n",
            "Epoch 200/600\n",
            "10/10 - 0s - loss: 11808472064.0000 - val_loss: 12781799424.0000 - 69ms/epoch - 7ms/step\n",
            "Epoch 201/600\n",
            "10/10 - 0s - loss: 11787939840.0000 - val_loss: 12764410880.0000 - 80ms/epoch - 8ms/step\n",
            "Epoch 202/600\n",
            "10/10 - 0s - loss: 11729140736.0000 - val_loss: 12619813888.0000 - 78ms/epoch - 8ms/step\n",
            "Epoch 203/600\n",
            "10/10 - 0s - loss: 11681490944.0000 - val_loss: 12553677824.0000 - 79ms/epoch - 8ms/step\n",
            "Epoch 204/600\n",
            "10/10 - 0s - loss: 11651350528.0000 - val_loss: 12462881792.0000 - 65ms/epoch - 6ms/step\n",
            "Epoch 205/600\n",
            "10/10 - 0s - loss: 11602540544.0000 - val_loss: 12406182912.0000 - 77ms/epoch - 8ms/step\n",
            "Epoch 206/600\n",
            "10/10 - 0s - loss: 11565669376.0000 - val_loss: 12375061504.0000 - 79ms/epoch - 8ms/step\n",
            "Epoch 207/600\n",
            "10/10 - 0s - loss: 11519208448.0000 - val_loss: 12308723712.0000 - 69ms/epoch - 7ms/step\n",
            "Epoch 208/600\n",
            "10/10 - 0s - loss: 11490632704.0000 - val_loss: 12271006720.0000 - 66ms/epoch - 7ms/step\n",
            "Epoch 209/600\n",
            "10/10 - 0s - loss: 11451416576.0000 - val_loss: 12246334464.0000 - 78ms/epoch - 8ms/step\n",
            "Epoch 210/600\n",
            "10/10 - 0s - loss: 11418360832.0000 - val_loss: 12175945728.0000 - 81ms/epoch - 8ms/step\n",
            "Epoch 211/600\n",
            "10/10 - 0s - loss: 11379976192.0000 - val_loss: 12145013760.0000 - 82ms/epoch - 8ms/step\n",
            "Epoch 212/600\n",
            "10/10 - 0s - loss: 11345634304.0000 - val_loss: 12124841984.0000 - 80ms/epoch - 8ms/step\n",
            "Epoch 213/600\n",
            "10/10 - 0s - loss: 11319184384.0000 - val_loss: 12069572608.0000 - 66ms/epoch - 7ms/step\n",
            "Epoch 214/600\n",
            "10/10 - 0s - loss: 11303432192.0000 - val_loss: 12061945856.0000 - 82ms/epoch - 8ms/step\n",
            "Epoch 215/600\n",
            "10/10 - 0s - loss: 11254368256.0000 - val_loss: 11992594432.0000 - 65ms/epoch - 6ms/step\n",
            "Epoch 216/600\n",
            "10/10 - 0s - loss: 11221779456.0000 - val_loss: 11951009792.0000 - 83ms/epoch - 8ms/step\n",
            "Epoch 217/600\n",
            "10/10 - 0s - loss: 11190282240.0000 - val_loss: 11901886464.0000 - 87ms/epoch - 9ms/step\n",
            "Epoch 218/600\n",
            "10/10 - 0s - loss: 11155286016.0000 - val_loss: 11848463360.0000 - 60ms/epoch - 6ms/step\n",
            "Epoch 219/600\n",
            "10/10 - 0s - loss: 11128964096.0000 - val_loss: 11823685632.0000 - 77ms/epoch - 8ms/step\n",
            "Epoch 220/600\n",
            "10/10 - 0s - loss: 11098533888.0000 - val_loss: 11763843072.0000 - 63ms/epoch - 6ms/step\n",
            "Epoch 221/600\n",
            "10/10 - 0s - loss: 11070483456.0000 - val_loss: 11721225216.0000 - 62ms/epoch - 6ms/step\n",
            "Epoch 222/600\n",
            "10/10 - 0s - loss: 11042968576.0000 - val_loss: 11668996096.0000 - 62ms/epoch - 6ms/step\n",
            "Epoch 223/600\n",
            "10/10 - 0s - loss: 11005161472.0000 - val_loss: 11665320960.0000 - 69ms/epoch - 7ms/step\n",
            "Epoch 224/600\n",
            "10/10 - 0s - loss: 10982549504.0000 - val_loss: 11623702528.0000 - 80ms/epoch - 8ms/step\n",
            "Epoch 225/600\n",
            "10/10 - 0s - loss: 10949757952.0000 - val_loss: 11554537472.0000 - 84ms/epoch - 8ms/step\n",
            "Epoch 226/600\n",
            "10/10 - 0s - loss: 10927494144.0000 - val_loss: 11476765696.0000 - 82ms/epoch - 8ms/step\n",
            "Epoch 227/600\n",
            "10/10 - 0s - loss: 10901851136.0000 - val_loss: 11459816448.0000 - 80ms/epoch - 8ms/step\n",
            "Epoch 228/600\n",
            "10/10 - 0s - loss: 10875054080.0000 - val_loss: 11404472320.0000 - 87ms/epoch - 9ms/step\n",
            "Epoch 229/600\n",
            "10/10 - 0s - loss: 10846777344.0000 - val_loss: 11369579520.0000 - 78ms/epoch - 8ms/step\n",
            "Epoch 230/600\n",
            "10/10 - 0s - loss: 10815586304.0000 - val_loss: 11355403264.0000 - 66ms/epoch - 7ms/step\n",
            "Epoch 231/600\n",
            "10/10 - 0s - loss: 10789581824.0000 - val_loss: 11319617536.0000 - 80ms/epoch - 8ms/step\n",
            "Epoch 232/600\n",
            "10/10 - 0s - loss: 10759262208.0000 - val_loss: 11273278464.0000 - 46ms/epoch - 5ms/step\n",
            "Epoch 233/600\n",
            "10/10 - 0s - loss: 10736229376.0000 - val_loss: 11205733376.0000 - 61ms/epoch - 6ms/step\n",
            "Epoch 234/600\n",
            "10/10 - 0s - loss: 10712324096.0000 - val_loss: 11161425920.0000 - 62ms/epoch - 6ms/step\n",
            "Epoch 235/600\n",
            "10/10 - 0s - loss: 10676919296.0000 - val_loss: 11133399040.0000 - 46ms/epoch - 5ms/step\n",
            "Epoch 236/600\n",
            "10/10 - 0s - loss: 10651498496.0000 - val_loss: 11123945472.0000 - 47ms/epoch - 5ms/step\n",
            "Epoch 237/600\n",
            "10/10 - 0s - loss: 10625965056.0000 - val_loss: 11104578560.0000 - 62ms/epoch - 6ms/step\n",
            "Epoch 238/600\n",
            "10/10 - 0s - loss: 10605634560.0000 - val_loss: 11035893760.0000 - 49ms/epoch - 5ms/step\n",
            "Epoch 239/600\n",
            "10/10 - 0s - loss: 10584846336.0000 - val_loss: 11015758848.0000 - 64ms/epoch - 6ms/step\n",
            "Epoch 240/600\n",
            "10/10 - 0s - loss: 10554543104.0000 - val_loss: 10992816128.0000 - 62ms/epoch - 6ms/step\n",
            "Epoch 241/600\n",
            "10/10 - 0s - loss: 10536904704.0000 - val_loss: 10934011904.0000 - 50ms/epoch - 5ms/step\n",
            "Epoch 242/600\n",
            "10/10 - 0s - loss: 10512524288.0000 - val_loss: 10880743424.0000 - 66ms/epoch - 7ms/step\n",
            "Epoch 243/600\n",
            "10/10 - 0s - loss: 10486507520.0000 - val_loss: 10852236288.0000 - 46ms/epoch - 5ms/step\n",
            "Epoch 244/600\n",
            "10/10 - 0s - loss: 10463563776.0000 - val_loss: 10840897536.0000 - 44ms/epoch - 4ms/step\n",
            "Epoch 245/600\n",
            "10/10 - 0s - loss: 10443129856.0000 - val_loss: 10764845056.0000 - 44ms/epoch - 4ms/step\n",
            "Epoch 246/600\n",
            "10/10 - 0s - loss: 10423962624.0000 - val_loss: 10725340160.0000 - 52ms/epoch - 5ms/step\n",
            "Epoch 247/600\n",
            "10/10 - 0s - loss: 10392269824.0000 - val_loss: 10666401792.0000 - 49ms/epoch - 5ms/step\n",
            "Epoch 248/600\n",
            "10/10 - 0s - loss: 10368990208.0000 - val_loss: 10615518208.0000 - 47ms/epoch - 5ms/step\n",
            "Epoch 249/600\n",
            "10/10 - 0s - loss: 10343113728.0000 - val_loss: 10575820800.0000 - 47ms/epoch - 5ms/step\n",
            "Epoch 250/600\n",
            "10/10 - 0s - loss: 10324818944.0000 - val_loss: 10540520448.0000 - 64ms/epoch - 6ms/step\n",
            "Epoch 251/600\n",
            "10/10 - 0s - loss: 10309621760.0000 - val_loss: 10503290880.0000 - 46ms/epoch - 5ms/step\n",
            "Epoch 252/600\n",
            "10/10 - 0s - loss: 10283711488.0000 - val_loss: 10471064576.0000 - 63ms/epoch - 6ms/step\n",
            "Epoch 253/600\n",
            "10/10 - 0s - loss: 10261540864.0000 - val_loss: 10460029952.0000 - 61ms/epoch - 6ms/step\n",
            "Epoch 254/600\n",
            "10/10 - 0s - loss: 10239974400.0000 - val_loss: 10409884672.0000 - 62ms/epoch - 6ms/step\n",
            "Epoch 255/600\n",
            "10/10 - 0s - loss: 10219895808.0000 - val_loss: 10376801280.0000 - 50ms/epoch - 5ms/step\n",
            "Epoch 256/600\n",
            "10/10 - 0s - loss: 10198183936.0000 - val_loss: 10332163072.0000 - 46ms/epoch - 5ms/step\n",
            "Epoch 257/600\n",
            "10/10 - 0s - loss: 10180881408.0000 - val_loss: 10279084032.0000 - 65ms/epoch - 6ms/step\n",
            "Epoch 258/600\n",
            "10/10 - 0s - loss: 10162503680.0000 - val_loss: 10261492736.0000 - 46ms/epoch - 5ms/step\n",
            "Epoch 259/600\n",
            "10/10 - 0s - loss: 10144185344.0000 - val_loss: 10259945472.0000 - 62ms/epoch - 6ms/step\n",
            "Epoch 260/600\n",
            "10/10 - 0s - loss: 10123726848.0000 - val_loss: 10236637184.0000 - 45ms/epoch - 4ms/step\n",
            "Epoch 261/600\n",
            "10/10 - 0s - loss: 10107837440.0000 - val_loss: 10221851648.0000 - 46ms/epoch - 5ms/step\n",
            "Epoch 262/600\n",
            "10/10 - 0s - loss: 10089099264.0000 - val_loss: 10216336384.0000 - 48ms/epoch - 5ms/step\n",
            "Epoch 263/600\n",
            "10/10 - 0s - loss: 10073330688.0000 - val_loss: 10186534912.0000 - 64ms/epoch - 6ms/step\n",
            "Epoch 264/600\n",
            "10/10 - 0s - loss: 10061949952.0000 - val_loss: 10183380992.0000 - 49ms/epoch - 5ms/step\n",
            "Epoch 265/600\n",
            "10/10 - 0s - loss: 10043371520.0000 - val_loss: 10123185152.0000 - 61ms/epoch - 6ms/step\n",
            "Epoch 266/600\n",
            "10/10 - 0s - loss: 10027289600.0000 - val_loss: 10078255104.0000 - 47ms/epoch - 5ms/step\n",
            "Epoch 267/600\n",
            "10/10 - 0s - loss: 10007882752.0000 - val_loss: 10056884224.0000 - 62ms/epoch - 6ms/step\n",
            "Epoch 268/600\n",
            "10/10 - 0s - loss: 9997882368.0000 - val_loss: 10010229760.0000 - 67ms/epoch - 7ms/step\n",
            "Epoch 269/600\n",
            "10/10 - 0s - loss: 9984563200.0000 - val_loss: 9996480512.0000 - 65ms/epoch - 6ms/step\n",
            "Epoch 270/600\n",
            "10/10 - 0s - loss: 9970100224.0000 - val_loss: 9983782912.0000 - 61ms/epoch - 6ms/step\n",
            "Epoch 271/600\n",
            "10/10 - 0s - loss: 9954072576.0000 - val_loss: 9947288576.0000 - 47ms/epoch - 5ms/step\n",
            "Epoch 272/600\n",
            "10/10 - 0s - loss: 9944450048.0000 - val_loss: 9916648448.0000 - 51ms/epoch - 5ms/step\n",
            "Epoch 273/600\n",
            "10/10 - 0s - loss: 9929111552.0000 - val_loss: 9875495936.0000 - 45ms/epoch - 5ms/step\n",
            "Epoch 274/600\n",
            "10/10 - 0s - loss: 9923773440.0000 - val_loss: 9851153408.0000 - 47ms/epoch - 5ms/step\n",
            "Epoch 275/600\n",
            "10/10 - 0s - loss: 9917388800.0000 - val_loss: 9814526976.0000 - 46ms/epoch - 5ms/step\n",
            "Epoch 276/600\n",
            "10/10 - 0s - loss: 9888974848.0000 - val_loss: 9817088000.0000 - 43ms/epoch - 4ms/step\n",
            "Epoch 277/600\n",
            "10/10 - 0s - loss: 9882541056.0000 - val_loss: 9827519488.0000 - 45ms/epoch - 5ms/step\n",
            "Epoch 278/600\n",
            "10/10 - 0s - loss: 9868036096.0000 - val_loss: 9825338368.0000 - 48ms/epoch - 5ms/step\n",
            "Epoch 279/600\n",
            "10/10 - 0s - loss: 9857294336.0000 - val_loss: 9768355840.0000 - 62ms/epoch - 6ms/step\n",
            "Epoch 280/600\n",
            "10/10 - 0s - loss: 9841647616.0000 - val_loss: 9737294848.0000 - 46ms/epoch - 5ms/step\n",
            "Epoch 281/600\n",
            "10/10 - 0s - loss: 9829383168.0000 - val_loss: 9712427008.0000 - 61ms/epoch - 6ms/step\n",
            "Epoch 282/600\n",
            "10/10 - 0s - loss: 9816705024.0000 - val_loss: 9684425728.0000 - 47ms/epoch - 5ms/step\n",
            "Epoch 283/600\n",
            "10/10 - 0s - loss: 9805391872.0000 - val_loss: 9668435968.0000 - 57ms/epoch - 6ms/step\n",
            "Epoch 284/600\n",
            "10/10 - 0s - loss: 9796421632.0000 - val_loss: 9641802752.0000 - 47ms/epoch - 5ms/step\n",
            "Epoch 285/600\n",
            "10/10 - 0s - loss: 9783190528.0000 - val_loss: 9627883520.0000 - 50ms/epoch - 5ms/step\n",
            "Epoch 286/600\n",
            "10/10 - 0s - loss: 9777664000.0000 - val_loss: 9635130368.0000 - 47ms/epoch - 5ms/step\n",
            "Epoch 287/600\n",
            "10/10 - 0s - loss: 9767702528.0000 - val_loss: 9606925312.0000 - 44ms/epoch - 4ms/step\n",
            "Epoch 288/600\n",
            "10/10 - 0s - loss: 9754268672.0000 - val_loss: 9592662016.0000 - 61ms/epoch - 6ms/step\n",
            "Epoch 289/600\n",
            "10/10 - 0s - loss: 9737590784.0000 - val_loss: 9590760448.0000 - 50ms/epoch - 5ms/step\n",
            "Epoch 290/600\n",
            "10/10 - 0s - loss: 9730068480.0000 - val_loss: 9583537152.0000 - 49ms/epoch - 5ms/step\n",
            "Epoch 291/600\n",
            "10/10 - 0s - loss: 9724997632.0000 - val_loss: 9568117760.0000 - 64ms/epoch - 6ms/step\n",
            "Epoch 292/600\n",
            "10/10 - 0s - loss: 9707671552.0000 - val_loss: 9550173184.0000 - 45ms/epoch - 5ms/step\n",
            "Epoch 293/600\n",
            "10/10 - 0s - loss: 9708863488.0000 - val_loss: 9507468288.0000 - 62ms/epoch - 6ms/step\n",
            "Epoch 294/600\n",
            "10/10 - 0s - loss: 9706986496.0000 - val_loss: 9516767232.0000 - 69ms/epoch - 7ms/step\n",
            "Epoch 295/600\n",
            "10/10 - 0s - loss: 9686646784.0000 - val_loss: 9519270912.0000 - 45ms/epoch - 5ms/step\n",
            "Epoch 296/600\n",
            "10/10 - 0s - loss: 9680765952.0000 - val_loss: 9497560064.0000 - 47ms/epoch - 5ms/step\n",
            "Epoch 297/600\n",
            "10/10 - 0s - loss: 9673778176.0000 - val_loss: 9514600448.0000 - 46ms/epoch - 5ms/step\n",
            "Epoch 298/600\n",
            "10/10 - 0s - loss: 9656000512.0000 - val_loss: 9495163904.0000 - 50ms/epoch - 5ms/step\n",
            "Epoch 299/600\n",
            "10/10 - 0s - loss: 9644548096.0000 - val_loss: 9470091264.0000 - 46ms/epoch - 5ms/step\n",
            "Epoch 300/600\n",
            "10/10 - 0s - loss: 9642298368.0000 - val_loss: 9447873536.0000 - 63ms/epoch - 6ms/step\n",
            "Epoch 301/600\n",
            "10/10 - 0s - loss: 9634359296.0000 - val_loss: 9450446848.0000 - 53ms/epoch - 5ms/step\n",
            "Epoch 302/600\n",
            "10/10 - 0s - loss: 9624420352.0000 - val_loss: 9468559360.0000 - 66ms/epoch - 7ms/step\n",
            "Epoch 303/600\n",
            "10/10 - 0s - loss: 9617350656.0000 - val_loss: 9464609792.0000 - 46ms/epoch - 5ms/step\n",
            "Epoch 304/600\n",
            "10/10 - 0s - loss: 9614455808.0000 - val_loss: 9459659776.0000 - 45ms/epoch - 4ms/step\n",
            "Epoch 305/600\n",
            "10/10 - 0s - loss: 9608695808.0000 - val_loss: 9480755200.0000 - 60ms/epoch - 6ms/step\n",
            "Epoch 306/600\n",
            "10/10 - 0s - loss: 9603777536.0000 - val_loss: 9411527680.0000 - 45ms/epoch - 5ms/step\n",
            "Epoch 307/600\n",
            "10/10 - 0s - loss: 9598186496.0000 - val_loss: 9361230848.0000 - 48ms/epoch - 5ms/step\n",
            "Epoch 308/600\n",
            "10/10 - 0s - loss: 9583324160.0000 - val_loss: 9356966912.0000 - 46ms/epoch - 5ms/step\n",
            "Epoch 309/600\n",
            "10/10 - 0s - loss: 9573486592.0000 - val_loss: 9389039616.0000 - 67ms/epoch - 7ms/step\n",
            "Epoch 310/600\n",
            "10/10 - 0s - loss: 9572697088.0000 - val_loss: 9453986816.0000 - 61ms/epoch - 6ms/step\n",
            "Epoch 311/600\n",
            "10/10 - 0s - loss: 9554670592.0000 - val_loss: 9474332672.0000 - 44ms/epoch - 4ms/step\n",
            "Epoch 312/600\n",
            "10/10 - 0s - loss: 9550382080.0000 - val_loss: 9454326784.0000 - 46ms/epoch - 5ms/step\n",
            "Epoch 313/600\n",
            "10/10 - 0s - loss: 9543129088.0000 - val_loss: 9465422848.0000 - 46ms/epoch - 5ms/step\n",
            "Epoch 314/600\n",
            "10/10 - 0s - loss: 9537982464.0000 - val_loss: 9480050688.0000 - 63ms/epoch - 6ms/step\n",
            "Epoch 315/600\n",
            "10/10 - 0s - loss: 9526818816.0000 - val_loss: 9403229184.0000 - 62ms/epoch - 6ms/step\n",
            "Epoch 316/600\n",
            "10/10 - 0s - loss: 9523718144.0000 - val_loss: 9382718464.0000 - 48ms/epoch - 5ms/step\n",
            "Epoch 317/600\n",
            "10/10 - 0s - loss: 9513099264.0000 - val_loss: 9352016896.0000 - 63ms/epoch - 6ms/step\n",
            "Epoch 318/600\n",
            "10/10 - 0s - loss: 9514471424.0000 - val_loss: 9343000576.0000 - 63ms/epoch - 6ms/step\n",
            "Epoch 319/600\n",
            "10/10 - 0s - loss: 9508928512.0000 - val_loss: 9365278720.0000 - 54ms/epoch - 5ms/step\n",
            "Epoch 320/600\n",
            "10/10 - 0s - loss: 9497604096.0000 - val_loss: 9316551680.0000 - 60ms/epoch - 6ms/step\n",
            "Epoch 321/600\n",
            "10/10 - 0s - loss: 9495818240.0000 - val_loss: 9301638144.0000 - 45ms/epoch - 4ms/step\n",
            "Epoch 322/600\n",
            "10/10 - 0s - loss: 9488234496.0000 - val_loss: 9325786112.0000 - 46ms/epoch - 5ms/step\n",
            "Epoch 323/600\n",
            "10/10 - 0s - loss: 9486821376.0000 - val_loss: 9354010624.0000 - 46ms/epoch - 5ms/step\n",
            "Epoch 324/600\n",
            "10/10 - 0s - loss: 9476585472.0000 - val_loss: 9338850304.0000 - 48ms/epoch - 5ms/step\n",
            "Epoch 325/600\n",
            "10/10 - 0s - loss: 9469407232.0000 - val_loss: 9361214464.0000 - 59ms/epoch - 6ms/step\n",
            "Epoch 326/600\n",
            "10/10 - 0s - loss: 9465278464.0000 - val_loss: 9342410752.0000 - 60ms/epoch - 6ms/step\n",
            "Epoch 327/600\n",
            "10/10 - 0s - loss: 9454802944.0000 - val_loss: 9354770432.0000 - 65ms/epoch - 7ms/step\n",
            "Epoch 328/600\n",
            "10/10 - 0s - loss: 9451484160.0000 - val_loss: 9364922368.0000 - 48ms/epoch - 5ms/step\n",
            "Epoch 329/600\n",
            "10/10 - 0s - loss: 9443288064.0000 - val_loss: 9374038016.0000 - 65ms/epoch - 7ms/step\n",
            "Epoch 330/600\n",
            "10/10 - 0s - loss: 9437212672.0000 - val_loss: 9355149312.0000 - 66ms/epoch - 7ms/step\n",
            "Epoch 331/600\n",
            "10/10 - 0s - loss: 9432964096.0000 - val_loss: 9353171968.0000 - 45ms/epoch - 4ms/step\n",
            "Epoch 332/600\n",
            "10/10 - 0s - loss: 9434747904.0000 - val_loss: 9368615936.0000 - 46ms/epoch - 5ms/step\n",
            "Epoch 333/600\n",
            "10/10 - 0s - loss: 9428471808.0000 - val_loss: 9379080192.0000 - 62ms/epoch - 6ms/step\n",
            "Epoch 334/600\n",
            "10/10 - 0s - loss: 9417412608.0000 - val_loss: 9375119360.0000 - 45ms/epoch - 5ms/step\n",
            "Epoch 335/600\n",
            "10/10 - 0s - loss: 9409352704.0000 - val_loss: 9390608384.0000 - 48ms/epoch - 5ms/step\n",
            "Epoch 336/600\n",
            "10/10 - 0s - loss: 9408110592.0000 - val_loss: 9383967744.0000 - 64ms/epoch - 6ms/step\n",
            "Epoch 337/600\n",
            "10/10 - 0s - loss: 9403757568.0000 - val_loss: 9401532416.0000 - 47ms/epoch - 5ms/step\n",
            "Epoch 338/600\n",
            "10/10 - 0s - loss: 9394991104.0000 - val_loss: 9421540352.0000 - 58ms/epoch - 6ms/step\n",
            "Epoch 339/600\n",
            "10/10 - 0s - loss: 9391204352.0000 - val_loss: 9389325312.0000 - 43ms/epoch - 4ms/step\n",
            "Epoch 340/600\n",
            "10/10 - 0s - loss: 9387237376.0000 - val_loss: 9397669888.0000 - 58ms/epoch - 6ms/step\n",
            "Epoch 341/600\n",
            "10/10 - 0s - loss: 9380280320.0000 - val_loss: 9448352768.0000 - 71ms/epoch - 7ms/step\n",
            "Epoch 342/600\n",
            "10/10 - 0s - loss: 9377654784.0000 - val_loss: 9438423040.0000 - 45ms/epoch - 5ms/step\n",
            "Epoch 343/600\n",
            "10/10 - 0s - loss: 9367116800.0000 - val_loss: 9445677056.0000 - 63ms/epoch - 6ms/step\n",
            "Epoch 344/600\n",
            "10/10 - 0s - loss: 9363127296.0000 - val_loss: 9443977216.0000 - 62ms/epoch - 6ms/step\n",
            "Epoch 345/600\n",
            "10/10 - 0s - loss: 9362473984.0000 - val_loss: 9418540032.0000 - 61ms/epoch - 6ms/step\n",
            "Epoch 346/600\n",
            "10/10 - 0s - loss: 9357970432.0000 - val_loss: 9437827072.0000 - 46ms/epoch - 5ms/step\n",
            "Epoch 347/600\n",
            "10/10 - 0s - loss: 9363048448.0000 - val_loss: 9484071936.0000 - 64ms/epoch - 6ms/step\n",
            "Epoch 348/600\n",
            "10/10 - 0s - loss: 9347141632.0000 - val_loss: 9405198336.0000 - 61ms/epoch - 6ms/step\n",
            "Epoch 349/600\n",
            "10/10 - 0s - loss: 9343451136.0000 - val_loss: 9415245824.0000 - 62ms/epoch - 6ms/step\n",
            "Epoch 350/600\n",
            "10/10 - 0s - loss: 9336811520.0000 - val_loss: 9397875712.0000 - 60ms/epoch - 6ms/step\n",
            "Epoch 351/600\n",
            "10/10 - 0s - loss: 9332311040.0000 - val_loss: 9397575680.0000 - 64ms/epoch - 6ms/step\n",
            "Epoch 352/600\n",
            "10/10 - 0s - loss: 9323802624.0000 - val_loss: 9403821056.0000 - 44ms/epoch - 4ms/step\n",
            "Epoch 353/600\n",
            "10/10 - 0s - loss: 9323125760.0000 - val_loss: 9388615680.0000 - 50ms/epoch - 5ms/step\n",
            "Epoch 354/600\n",
            "10/10 - 0s - loss: 9319074816.0000 - val_loss: 9431646208.0000 - 48ms/epoch - 5ms/step\n",
            "Epoch 355/600\n",
            "10/10 - 0s - loss: 9310974976.0000 - val_loss: 9423667200.0000 - 45ms/epoch - 5ms/step\n",
            "Epoch 356/600\n",
            "10/10 - 0s - loss: 9303782400.0000 - val_loss: 9457246208.0000 - 60ms/epoch - 6ms/step\n",
            "Epoch 357/600\n",
            "10/10 - 0s - loss: 9302593536.0000 - val_loss: 9460107264.0000 - 63ms/epoch - 6ms/step\n",
            "Epoch 358/600\n",
            "10/10 - 0s - loss: 9300845568.0000 - val_loss: 9418087424.0000 - 45ms/epoch - 4ms/step\n",
            "Epoch 359/600\n",
            "10/10 - 0s - loss: 9300155392.0000 - val_loss: 9421248512.0000 - 69ms/epoch - 7ms/step\n",
            "Epoch 360/600\n",
            "10/10 - 0s - loss: 9288807424.0000 - val_loss: 9434897408.0000 - 51ms/epoch - 5ms/step\n",
            "Epoch 361/600\n",
            "10/10 - 0s - loss: 9285658624.0000 - val_loss: 9416291328.0000 - 66ms/epoch - 7ms/step\n",
            "Epoch 362/600\n",
            "10/10 - 0s - loss: 9286107136.0000 - val_loss: 9439977472.0000 - 66ms/epoch - 7ms/step\n",
            "Epoch 363/600\n",
            "10/10 - 0s - loss: 9277751296.0000 - val_loss: 9444220928.0000 - 46ms/epoch - 5ms/step\n",
            "Epoch 364/600\n",
            "10/10 - 0s - loss: 9271177216.0000 - val_loss: 9431790592.0000 - 47ms/epoch - 5ms/step\n",
            "Epoch 365/600\n",
            "10/10 - 0s - loss: 9273157632.0000 - val_loss: 9475186688.0000 - 46ms/epoch - 5ms/step\n",
            "Epoch 366/600\n",
            "10/10 - 0s - loss: 9263973376.0000 - val_loss: 9442036736.0000 - 45ms/epoch - 4ms/step\n",
            "Epoch 367/600\n",
            "10/10 - 0s - loss: 9262860288.0000 - val_loss: 9399659520.0000 - 53ms/epoch - 5ms/step\n",
            "Epoch 368/600\n",
            "10/10 - 0s - loss: 9261402112.0000 - val_loss: 9397057536.0000 - 63ms/epoch - 6ms/step\n",
            "Epoch 369/600\n",
            "10/10 - 0s - loss: 9257344000.0000 - val_loss: 9361880064.0000 - 61ms/epoch - 6ms/step\n",
            "Epoch 370/600\n",
            "10/10 - 0s - loss: 9250519040.0000 - val_loss: 9389530112.0000 - 60ms/epoch - 6ms/step\n",
            "Epoch 371/600\n",
            "10/10 - 0s - loss: 9246388224.0000 - val_loss: 9397711872.0000 - 56ms/epoch - 6ms/step\n",
            "Epoch 372/600\n",
            "10/10 - 0s - loss: 9243700224.0000 - val_loss: 9423616000.0000 - 53ms/epoch - 5ms/step\n",
            "Epoch 373/600\n",
            "10/10 - 0s - loss: 9235219456.0000 - val_loss: 9419769856.0000 - 43ms/epoch - 4ms/step\n",
            "Epoch 374/600\n",
            "10/10 - 0s - loss: 9240799232.0000 - val_loss: 9396226048.0000 - 60ms/epoch - 6ms/step\n",
            "Epoch 375/600\n",
            "10/10 - 0s - loss: 9227657216.0000 - val_loss: 9451906048.0000 - 44ms/epoch - 4ms/step\n",
            "Epoch 376/600\n",
            "10/10 - 0s - loss: 9224132608.0000 - val_loss: 9444578304.0000 - 60ms/epoch - 6ms/step\n",
            "Epoch 377/600\n",
            "10/10 - 0s - loss: 9221911552.0000 - val_loss: 9426886656.0000 - 51ms/epoch - 5ms/step\n",
            "Epoch 378/600\n",
            "10/10 - 0s - loss: 9218014208.0000 - val_loss: 9448737792.0000 - 63ms/epoch - 6ms/step\n",
            "Epoch 379/600\n",
            "10/10 - 0s - loss: 9220638720.0000 - val_loss: 9437783040.0000 - 61ms/epoch - 6ms/step\n",
            "Epoch 380/600\n",
            "10/10 - 0s - loss: 9216567296.0000 - val_loss: 9356562432.0000 - 46ms/epoch - 5ms/step\n",
            "Epoch 381/600\n",
            "10/10 - 0s - loss: 9210044416.0000 - val_loss: 9377124352.0000 - 49ms/epoch - 5ms/step\n",
            "Epoch 382/600\n",
            "10/10 - 0s - loss: 9211193344.0000 - val_loss: 9407935488.0000 - 62ms/epoch - 6ms/step\n",
            "Epoch 383/600\n",
            "10/10 - 0s - loss: 9206214656.0000 - val_loss: 9403040768.0000 - 47ms/epoch - 5ms/step\n",
            "Epoch 384/600\n",
            "10/10 - 0s - loss: 9199375360.0000 - val_loss: 9403835392.0000 - 48ms/epoch - 5ms/step\n",
            "Epoch 385/600\n",
            "10/10 - 0s - loss: 9198844928.0000 - val_loss: 9403549696.0000 - 67ms/epoch - 7ms/step\n",
            "Epoch 386/600\n",
            "10/10 - 0s - loss: 9201667072.0000 - val_loss: 9450315776.0000 - 46ms/epoch - 5ms/step\n",
            "Epoch 387/600\n",
            "10/10 - 0s - loss: 9199631360.0000 - val_loss: 9404443648.0000 - 65ms/epoch - 7ms/step\n",
            "Epoch 388/600\n",
            "10/10 - 0s - loss: 9188886528.0000 - val_loss: 9432453120.0000 - 46ms/epoch - 5ms/step\n",
            "Epoch 389/600\n",
            "10/10 - 0s - loss: 9188276224.0000 - val_loss: 9440754688.0000 - 52ms/epoch - 5ms/step\n",
            "Epoch 390/600\n",
            "10/10 - 0s - loss: 9179824128.0000 - val_loss: 9445308416.0000 - 49ms/epoch - 5ms/step\n",
            "Epoch 391/600\n",
            "10/10 - 0s - loss: 9177974784.0000 - val_loss: 9430909952.0000 - 62ms/epoch - 6ms/step\n",
            "Epoch 392/600\n",
            "10/10 - 0s - loss: 9175771136.0000 - val_loss: 9428131840.0000 - 48ms/epoch - 5ms/step\n",
            "Epoch 393/600\n",
            "10/10 - 0s - loss: 9182823424.0000 - val_loss: 9406062592.0000 - 61ms/epoch - 6ms/step\n",
            "Epoch 394/600\n",
            "10/10 - 0s - loss: 9184570368.0000 - val_loss: 9448895488.0000 - 47ms/epoch - 5ms/step\n",
            "Epoch 395/600\n",
            "10/10 - 0s - loss: 9166159872.0000 - val_loss: 9410064384.0000 - 45ms/epoch - 4ms/step\n",
            "Epoch 396/600\n",
            "10/10 - 0s - loss: 9171307520.0000 - val_loss: 9415741440.0000 - 67ms/epoch - 7ms/step\n",
            "Epoch 397/600\n",
            "10/10 - 0s - loss: 9159917568.0000 - val_loss: 9424739328.0000 - 68ms/epoch - 7ms/step\n",
            "Epoch 398/600\n",
            "10/10 - 0s - loss: 9156228096.0000 - val_loss: 9445101568.0000 - 60ms/epoch - 6ms/step\n",
            "Epoch 399/600\n",
            "10/10 - 0s - loss: 9153778688.0000 - val_loss: 9485394944.0000 - 60ms/epoch - 6ms/step\n",
            "Epoch 400/600\n",
            "10/10 - 0s - loss: 9153349632.0000 - val_loss: 9506814976.0000 - 46ms/epoch - 5ms/step\n",
            "Epoch 401/600\n",
            "10/10 - 0s - loss: 9160370176.0000 - val_loss: 9466664960.0000 - 61ms/epoch - 6ms/step\n",
            "Epoch 402/600\n",
            "10/10 - 0s - loss: 9148413952.0000 - val_loss: 9490198528.0000 - 47ms/epoch - 5ms/step\n",
            "Epoch 403/600\n",
            "10/10 - 0s - loss: 9142503424.0000 - val_loss: 9482930176.0000 - 45ms/epoch - 5ms/step\n",
            "Epoch 404/600\n",
            "10/10 - 0s - loss: 9138598912.0000 - val_loss: 9481103360.0000 - 66ms/epoch - 7ms/step\n",
            "Epoch 405/600\n",
            "10/10 - 0s - loss: 9143724032.0000 - val_loss: 9479581696.0000 - 76ms/epoch - 8ms/step\n",
            "Epoch 406/600\n",
            "10/10 - 0s - loss: 9132288000.0000 - val_loss: 9478479872.0000 - 75ms/epoch - 8ms/step\n",
            "Epoch 407/600\n",
            "10/10 - 0s - loss: 9129510912.0000 - val_loss: 9491795968.0000 - 76ms/epoch - 8ms/step\n",
            "Epoch 408/600\n",
            "10/10 - 0s - loss: 9126274048.0000 - val_loss: 9509008384.0000 - 79ms/epoch - 8ms/step\n",
            "Epoch 409/600\n",
            "10/10 - 0s - loss: 9121774592.0000 - val_loss: 9536702464.0000 - 64ms/epoch - 6ms/step\n",
            "Epoch 410/600\n",
            "10/10 - 0s - loss: 9125966848.0000 - val_loss: 9546437632.0000 - 83ms/epoch - 8ms/step\n",
            "Epoch 411/600\n",
            "10/10 - 0s - loss: 9119813632.0000 - val_loss: 9541294080.0000 - 62ms/epoch - 6ms/step\n",
            "Epoch 412/600\n",
            "10/10 - 0s - loss: 9113839616.0000 - val_loss: 9504148480.0000 - 76ms/epoch - 8ms/step\n",
            "Epoch 413/600\n",
            "10/10 - 0s - loss: 9109042176.0000 - val_loss: 9499871232.0000 - 59ms/epoch - 6ms/step\n",
            "Epoch 414/600\n",
            "10/10 - 0s - loss: 9108270080.0000 - val_loss: 9485197312.0000 - 73ms/epoch - 7ms/step\n",
            "Epoch 415/600\n",
            "10/10 - 0s - loss: 9107035136.0000 - val_loss: 9519452160.0000 - 74ms/epoch - 7ms/step\n",
            "Epoch 416/600\n",
            "10/10 - 0s - loss: 9101940736.0000 - val_loss: 9494515712.0000 - 78ms/epoch - 8ms/step\n",
            "Epoch 417/600\n",
            "10/10 - 0s - loss: 9099223040.0000 - val_loss: 9472501760.0000 - 64ms/epoch - 6ms/step\n",
            "Epoch 418/600\n",
            "10/10 - 0s - loss: 9101467648.0000 - val_loss: 9480425472.0000 - 60ms/epoch - 6ms/step\n",
            "Epoch 419/600\n",
            "10/10 - 0s - loss: 9095613440.0000 - val_loss: 9446389760.0000 - 60ms/epoch - 6ms/step\n",
            "Epoch 420/600\n",
            "10/10 - 0s - loss: 9090589696.0000 - val_loss: 9458178048.0000 - 90ms/epoch - 9ms/step\n",
            "Epoch 421/600\n",
            "10/10 - 0s - loss: 9088499712.0000 - val_loss: 9472189440.0000 - 79ms/epoch - 8ms/step\n",
            "Epoch 422/600\n",
            "10/10 - 0s - loss: 9091574784.0000 - val_loss: 9496802304.0000 - 79ms/epoch - 8ms/step\n",
            "Epoch 423/600\n",
            "10/10 - 0s - loss: 9090198528.0000 - val_loss: 9462350848.0000 - 76ms/epoch - 8ms/step\n",
            "Epoch 424/600\n",
            "10/10 - 0s - loss: 9083000832.0000 - val_loss: 9498258432.0000 - 66ms/epoch - 7ms/step\n",
            "Epoch 425/600\n",
            "10/10 - 0s - loss: 9080769536.0000 - val_loss: 9483668480.0000 - 58ms/epoch - 6ms/step\n",
            "Epoch 426/600\n",
            "10/10 - 0s - loss: 9090833408.0000 - val_loss: 9443681280.0000 - 73ms/epoch - 7ms/step\n",
            "Epoch 427/600\n",
            "10/10 - 0s - loss: 9076342784.0000 - val_loss: 9463066624.0000 - 74ms/epoch - 7ms/step\n",
            "Epoch 428/600\n",
            "10/10 - 0s - loss: 9075061760.0000 - val_loss: 9507463168.0000 - 73ms/epoch - 7ms/step\n",
            "Epoch 429/600\n",
            "10/10 - 0s - loss: 9074958336.0000 - val_loss: 9524912128.0000 - 62ms/epoch - 6ms/step\n",
            "Epoch 430/600\n",
            "10/10 - 0s - loss: 9072999424.0000 - val_loss: 9509754880.0000 - 60ms/epoch - 6ms/step\n",
            "Epoch 431/600\n",
            "10/10 - 0s - loss: 9071012864.0000 - val_loss: 9498326016.0000 - 59ms/epoch - 6ms/step\n",
            "Epoch 432/600\n",
            "10/10 - 0s - loss: 9062727680.0000 - val_loss: 9459332096.0000 - 84ms/epoch - 8ms/step\n",
            "Epoch 433/600\n",
            "10/10 - 0s - loss: 9064836096.0000 - val_loss: 9451977728.0000 - 60ms/epoch - 6ms/step\n",
            "Epoch 434/600\n",
            "10/10 - 0s - loss: 9062885376.0000 - val_loss: 9435886592.0000 - 78ms/epoch - 8ms/step\n",
            "Epoch 435/600\n",
            "10/10 - 0s - loss: 9061813248.0000 - val_loss: 9458814976.0000 - 64ms/epoch - 6ms/step\n",
            "Epoch 436/600\n",
            "10/10 - 0s - loss: 9060981760.0000 - val_loss: 9473961984.0000 - 79ms/epoch - 8ms/step\n",
            "Epoch 437/600\n",
            "10/10 - 0s - loss: 9055454208.0000 - val_loss: 9509014528.0000 - 60ms/epoch - 6ms/step\n",
            "Epoch 438/600\n",
            "10/10 - 0s - loss: 9056492544.0000 - val_loss: 9511358464.0000 - 73ms/epoch - 7ms/step\n",
            "Epoch 439/600\n",
            "10/10 - 0s - loss: 9051394048.0000 - val_loss: 9524208640.0000 - 76ms/epoch - 8ms/step\n",
            "Epoch 440/600\n",
            "10/10 - 0s - loss: 9056996352.0000 - val_loss: 9503525888.0000 - 62ms/epoch - 6ms/step\n",
            "Epoch 441/600\n",
            "10/10 - 0s - loss: 9050314752.0000 - val_loss: 9536291840.0000 - 74ms/epoch - 7ms/step\n",
            "Epoch 442/600\n",
            "10/10 - 0s - loss: 9046322176.0000 - val_loss: 9539572736.0000 - 63ms/epoch - 6ms/step\n",
            "Epoch 443/600\n",
            "10/10 - 0s - loss: 9043529728.0000 - val_loss: 9550585856.0000 - 78ms/epoch - 8ms/step\n",
            "Epoch 444/600\n",
            "10/10 - 0s - loss: 9043833856.0000 - val_loss: 9583109120.0000 - 75ms/epoch - 8ms/step\n",
            "Epoch 445/600\n",
            "10/10 - 0s - loss: 9043432448.0000 - val_loss: 9582939136.0000 - 87ms/epoch - 9ms/step\n",
            "Epoch 446/600\n",
            "10/10 - 0s - loss: 9041002496.0000 - val_loss: 9524921344.0000 - 76ms/epoch - 8ms/step\n",
            "Epoch 447/600\n",
            "10/10 - 0s - loss: 9042283520.0000 - val_loss: 9550973952.0000 - 65ms/epoch - 6ms/step\n",
            "Epoch 448/600\n",
            "10/10 - 0s - loss: 9045621760.0000 - val_loss: 9493176320.0000 - 80ms/epoch - 8ms/step\n",
            "Epoch 449/600\n",
            "10/10 - 0s - loss: 9034220544.0000 - val_loss: 9507546112.0000 - 80ms/epoch - 8ms/step\n",
            "Epoch 450/600\n",
            "10/10 - 0s - loss: 9031991296.0000 - val_loss: 9521753088.0000 - 92ms/epoch - 9ms/step\n",
            "Epoch 451/600\n",
            "10/10 - 0s - loss: 9035468800.0000 - val_loss: 9568221184.0000 - 65ms/epoch - 7ms/step\n",
            "Epoch 452/600\n",
            "10/10 - 0s - loss: 9039026176.0000 - val_loss: 9609202688.0000 - 60ms/epoch - 6ms/step\n",
            "Epoch 453/600\n",
            "10/10 - 0s - loss: 9026725888.0000 - val_loss: 9557079040.0000 - 75ms/epoch - 7ms/step\n",
            "Epoch 454/600\n",
            "10/10 - 0s - loss: 9025390592.0000 - val_loss: 9526386688.0000 - 64ms/epoch - 6ms/step\n",
            "Epoch 455/600\n",
            "10/10 - 0s - loss: 9027179520.0000 - val_loss: 9510793216.0000 - 76ms/epoch - 8ms/step\n",
            "Epoch 456/600\n",
            "10/10 - 0s - loss: 9025709056.0000 - val_loss: 9592818688.0000 - 66ms/epoch - 7ms/step\n",
            "Epoch 457/600\n",
            "10/10 - 0s - loss: 9026443264.0000 - val_loss: 9634647040.0000 - 59ms/epoch - 6ms/step\n",
            "Epoch 458/600\n",
            "10/10 - 0s - loss: 9019574272.0000 - val_loss: 9598266368.0000 - 76ms/epoch - 8ms/step\n",
            "Epoch 459/600\n",
            "10/10 - 0s - loss: 9018167296.0000 - val_loss: 9581337600.0000 - 63ms/epoch - 6ms/step\n",
            "Epoch 460/600\n",
            "10/10 - 0s - loss: 9013344256.0000 - val_loss: 9576124416.0000 - 59ms/epoch - 6ms/step\n",
            "Epoch 461/600\n",
            "10/10 - 0s - loss: 9018525696.0000 - val_loss: 9552208896.0000 - 77ms/epoch - 8ms/step\n",
            "Epoch 462/600\n",
            "10/10 - 0s - loss: 9013705728.0000 - val_loss: 9555039232.0000 - 90ms/epoch - 9ms/step\n",
            "Epoch 463/600\n",
            "10/10 - 0s - loss: 9008313344.0000 - val_loss: 9527182336.0000 - 76ms/epoch - 8ms/step\n",
            "Epoch 464/600\n",
            "10/10 - 0s - loss: 9012569088.0000 - val_loss: 9457354752.0000 - 69ms/epoch - 7ms/step\n",
            "Epoch 465/600\n",
            "10/10 - 0s - loss: 9007271936.0000 - val_loss: 9473929216.0000 - 50ms/epoch - 5ms/step\n",
            "Epoch 466/600\n",
            "10/10 - 0s - loss: 9007025152.0000 - val_loss: 9456864256.0000 - 61ms/epoch - 6ms/step\n",
            "Epoch 467/600\n",
            "10/10 - 0s - loss: 9002597376.0000 - val_loss: 9505302528.0000 - 60ms/epoch - 6ms/step\n",
            "Epoch 468/600\n",
            "10/10 - 0s - loss: 9011497984.0000 - val_loss: 9556746240.0000 - 60ms/epoch - 6ms/step\n",
            "Epoch 469/600\n",
            "10/10 - 0s - loss: 9002116096.0000 - val_loss: 9555297280.0000 - 60ms/epoch - 6ms/step\n",
            "Epoch 470/600\n",
            "10/10 - 0s - loss: 9002355712.0000 - val_loss: 9574410240.0000 - 48ms/epoch - 5ms/step\n",
            "Epoch 471/600\n",
            "10/10 - 0s - loss: 9006094336.0000 - val_loss: 9577297920.0000 - 62ms/epoch - 6ms/step\n",
            "Epoch 472/600\n",
            "10/10 - 0s - loss: 8995897344.0000 - val_loss: 9629243392.0000 - 59ms/epoch - 6ms/step\n",
            "Epoch 473/600\n",
            "10/10 - 0s - loss: 9006493696.0000 - val_loss: 9673353216.0000 - 65ms/epoch - 7ms/step\n",
            "Epoch 474/600\n",
            "10/10 - 0s - loss: 9005706240.0000 - val_loss: 9623046144.0000 - 51ms/epoch - 5ms/step\n",
            "Epoch 475/600\n",
            "10/10 - 0s - loss: 8994291712.0000 - val_loss: 9632610304.0000 - 46ms/epoch - 5ms/step\n",
            "Epoch 476/600\n",
            "10/10 - 0s - loss: 8999225344.0000 - val_loss: 9589856256.0000 - 61ms/epoch - 6ms/step\n",
            "Epoch 477/600\n",
            "10/10 - 0s - loss: 8990255104.0000 - val_loss: 9600482304.0000 - 47ms/epoch - 5ms/step\n",
            "Epoch 478/600\n",
            "10/10 - 0s - loss: 8988582912.0000 - val_loss: 9610267648.0000 - 60ms/epoch - 6ms/step\n",
            "Epoch 479/600\n",
            "10/10 - 0s - loss: 8996080640.0000 - val_loss: 9645316096.0000 - 47ms/epoch - 5ms/step\n",
            "Epoch 480/600\n",
            "10/10 - 0s - loss: 8983918592.0000 - val_loss: 9595499520.0000 - 48ms/epoch - 5ms/step\n",
            "Epoch 481/600\n",
            "10/10 - 0s - loss: 8994482176.0000 - val_loss: 9565107200.0000 - 64ms/epoch - 6ms/step\n",
            "Epoch 482/600\n",
            "10/10 - 0s - loss: 8984328192.0000 - val_loss: 9591964672.0000 - 49ms/epoch - 5ms/step\n",
            "Epoch 483/600\n",
            "10/10 - 0s - loss: 8984834048.0000 - val_loss: 9556488192.0000 - 64ms/epoch - 6ms/step\n",
            "Epoch 484/600\n",
            "10/10 - 0s - loss: 8993849344.0000 - val_loss: 9551163392.0000 - 48ms/epoch - 5ms/step\n",
            "Epoch 485/600\n",
            "10/10 - 0s - loss: 8987926528.0000 - val_loss: 9582082048.0000 - 46ms/epoch - 5ms/step\n",
            "Epoch 485: early stopping\n"
          ]
        },
        {
          "data": {
            "text/plain": [
              "<keras.src.callbacks.History at 0x7ceff6f770a0>"
            ]
          },
          "execution_count": 33,
          "metadata": {},
          "output_type": "execute_result"
        }
      ],
      "source": [
        "#create dense model as own model\n",
        "from tensorflow.keras.optimizers import Adam, SGD\n",
        "\n",
        "monitor = EarlyStopping(monitor='loss', min_delta=1e3, patience=5, verbose=2, mode='auto')\n",
        "\n",
        "model = Model(inputs=visible1, outputs=output1)\n",
        "model.compile(loss='mean_squared_error', optimizer=Adam(.1))\n",
        "model.fit(x=x_train, y=y_train, validation_data=(x_test, y_test), callbacks=[monitor], verbose=2, epochs=600)"
      ]
    },
    {
      "cell_type": "code",
      "execution_count": null,
      "metadata": {
        "colab": {
          "base_uri": "https://localhost:8080/"
        },
        "id": "tokrIn8llLG2",
        "outputId": "8d01479f-a849-43c1-b077-3bd84b4c9379"
      },
      "outputs": [
        {
          "name": "stdout",
          "output_type": "stream",
          "text": [
            "3/3 [==============================] - 0s 3ms/step\n",
            "RMSE: 97888.10874524881\n"
          ]
        }
      ],
      "source": [
        "pred = model.predict(x_test)\n",
        "\n",
        "score = np.sqrt(metrics.mean_squared_error(pred,y_test))\n",
        "print(\"RMSE: {}\".format(score))"
      ]
    },
    {
      "cell_type": "code",
      "execution_count": null,
      "metadata": {
        "colab": {
          "base_uri": "https://localhost:8080/",
          "height": 430
        },
        "id": "u-vY28LLmfai",
        "outputId": "af468787-a4f2-4ccf-8770-f9653d7abbd6"
      },
      "outputs": [
        {
          "data": {
            "image/png": "[encoded data removed]",
            "text/plain": [
              "<Figure size 640x480 with 1 Axes>"
            ]
          },
          "metadata": {},
          "output_type": "display_data"
        }
      ],
      "source": [
        "#produce lift chart for test data\n",
        "%matplotlib inline\n",
        "chart_regression(pred.flatten(),y_test.values, sort= True)"
      ]
    },
    {
      "cell_type": "markdown",
      "metadata": {
        "id": "iY0_smT0gW8x"
      },
      "source": [
        "### Creating Convolution Neural Network"
      ]
    },
    {
      "cell_type": "code",
      "execution_count": null,
      "metadata": {
        "id": "n1o1a6MhgfaD"
      },
      "outputs": [],
      "source": [
        "from tensorflow.keras.layers import Flatten\n",
        "from tensorflow.keras.layers import Conv2D\n",
        "from tensorflow.keras.layers import MaxPooling2D\n",
        "\n",
        "act = 'relu'\n",
        "input_img_arr = img_arr_copy\n",
        "\n",
        "visible2 = Input(shape=(128,128,3))\n",
        "\n",
        "conv2_1 = Conv2D(64, kernel_size=4, activation=act)(visible2)\n",
        "pool2_1 = MaxPooling2D(pool_size=(2, 2))(conv2_1)\n",
        "conv2_2 = Conv2D(32, kernel_size=4, activation=act)(pool2_1)\n",
        "pool2_2 = MaxPooling2D(pool_size=(2, 2))(conv2_2)\n",
        "conv2_3 = Conv2D(16, kernel_size=4, activation=act)(pool2_2)\n",
        "pool2_3 = MaxPooling2D(pool_size=(2, 2))(conv2_3)\n",
        "flat = Flatten()(pool2_3)\n",
        "output2 = Dense(1, activation=act)(flat)"
      ]
    },
    {
      "cell_type": "code",
      "execution_count": null,
      "metadata": {
        "colab": {
          "base_uri": "https://localhost:8080/"
        },
        "id": "D3t2zcFA7-YF",
        "outputId": "af36b5db-5517-40aa-bf49-f1ffe472d1f1"
      },
      "outputs": [
        {
          "name": "stdout",
          "output_type": "stream",
          "text": [
            "Epoch 1/500\n",
            "10/10 - 16s - loss: 237487280619520.0000 - val_loss: 257925005312.0000 - 16s/epoch - 2s/step\n",
            "Epoch 2/500\n",
            "10/10 - 24s - loss: 239844360192.0000 - val_loss: 257925005312.0000 - 24s/epoch - 2s/step\n",
            "Epoch 3/500\n",
            "10/10 - 15s - loss: 239844360192.0000 - val_loss: 257925005312.0000 - 15s/epoch - 1s/step\n",
            "Epoch 4/500\n",
            "10/10 - 15s - loss: 239844360192.0000 - val_loss: 257925005312.0000 - 15s/epoch - 1s/step\n",
            "Epoch 5/500\n",
            "10/10 - 15s - loss: 239844392960.0000 - val_loss: 257925005312.0000 - 15s/epoch - 1s/step\n",
            "Epoch 5: early stopping\n"
          ]
        },
        {
          "data": {
            "text/plain": [
              "<keras.src.callbacks.History at 0x7ceff4cd9ab0>"
            ]
          },
          "execution_count": 37,
          "metadata": {},
          "output_type": "execute_result"
        }
      ],
      "source": [
        "#create cnn model as own model for testing\n",
        "from tensorflow.keras.optimizers import Adam, SGD\n",
        "\n",
        "monitor = EarlyStopping(monitor='loss', min_delta=1e-3, patience=3, verbose=2, mode='auto')\n",
        "\n",
        "model = Model(inputs=visible2, outputs=output2)\n",
        "model.compile(loss='mean_squared_error', optimizer=Adam(.1))\n",
        "model.fit(x=x_train_img, y=y_train, validation_data=(x_test_img, y_test), callbacks=[monitor], verbose=2, epochs=500)"
      ]
    },
    {
      "cell_type": "code",
      "execution_count": null,
      "metadata": {
        "colab": {
          "base_uri": "https://localhost:8080/"
        },
        "id": "sD6cdtVfmxBV",
        "outputId": "6a5a6fa1-65f8-45af-9109-a27e8496eade"
      },
      "outputs": [
        {
          "name": "stdout",
          "output_type": "stream",
          "text": [
            "3/3 [==============================] - 1s 300ms/step\n",
            "RMSE: 507863.14570040477\n"
          ]
        }
      ],
      "source": [
        "pred = model.predict(x_test_img)\n",
        "\n",
        "score = np.sqrt(metrics.mean_squared_error(pred,y_test))\n",
        "print(\"RMSE: {}\".format(score))"
      ]
    },
    {
      "cell_type": "markdown",
      "metadata": {
        "id": "G2eUrlnKkX27"
      },
      "source": [
        "### Concatenating Neural Networks"
      ]
    },
    {
      "cell_type": "code",
      "execution_count": null,
      "metadata": {
        "id": "a0xQQAnVkkYw"
      },
      "outputs": [],
      "source": [
        "from tensorflow.keras.layers import concatenate\n",
        "\n",
        "act = 'relu'\n",
        "act2 = 'linear'\n",
        "\n",
        "merge = concatenate([output1, flat], axis=1)\n",
        "\n",
        "# interpretation model\n",
        "hidden3_1 = Dense(10, activation=act)(merge)\n",
        "hidden3_2 = Dense(10, activation=act)(hidden3_1)\n",
        "final_output = Dense(1, activation=act2)(hidden3_2)\n"
      ]
    },
    {
      "cell_type": "markdown",
      "metadata": {
        "id": "QYFldodhlYB2"
      },
      "source": [
        "### Creating Model"
      ]
    },
    {
      "cell_type": "code",
      "execution_count": null,
      "metadata": {
        "colab": {
          "base_uri": "https://localhost:8080/",
          "height": 1000
        },
        "id": "48OruM-EliGd",
        "outputId": "74c68737-0fe3-469c-de8d-5df212f0cef0"
      },
      "outputs": [
        {
          "name": "stdout",
          "output_type": "stream",
          "text": [
            "Model: \"model_2\"\n",
            "__________________________________________________________________________________________________\n",
            " Layer (type)                Output Shape                 Param #   Connected to                  \n",
            "==================================================================================================\n",
            " input_2 (InputLayer)        [(None, 128, 128, 3)]        0         []                            \n",
            "                                                                                                  \n",
            " conv2d (Conv2D)             (None, 125, 125, 64)         3136      ['input_2[0][0]']             \n",
            "                                                                                                  \n",
            " max_pooling2d (MaxPooling2  (None, 62, 62, 64)           0         ['conv2d[0][0]']              \n",
            " D)                                                                                               \n",
            "                                                                                                  \n",
            " conv2d_1 (Conv2D)           (None, 59, 59, 32)           32800     ['max_pooling2d[0][0]']       \n",
            "                                                                                                  \n",
            " max_pooling2d_1 (MaxPoolin  (None, 29, 29, 32)           0         ['conv2d_1[0][0]']            \n",
            " g2D)                                                                                             \n",
            "                                                                                                  \n",
            " input_1 (InputLayer)        [(None, 41)]                 0         []                            \n",
            "                                                                                                  \n",
            " conv2d_2 (Conv2D)           (None, 26, 26, 16)           8208      ['max_pooling2d_1[0][0]']     \n",
            "                                                                                                  \n",
            " dense (Dense)               (None, 20)                   840       ['input_1[0][0]']             \n",
            "                                                                                                  \n",
            " max_pooling2d_2 (MaxPoolin  (None, 13, 13, 16)           0         ['conv2d_2[0][0]']            \n",
            " g2D)                                                                                             \n",
            "                                                                                                  \n",
            " dense_1 (Dense)             (None, 1)                    21        ['dense[0][0]']               \n",
            "                                                                                                  \n",
            " flatten (Flatten)           (None, 2704)                 0         ['max_pooling2d_2[0][0]']     \n",
            "                                                                                                  \n",
            " concatenate (Concatenate)   (None, 2705)                 0         ['dense_1[0][0]',             \n",
            "                                                                     'flatten[0][0]']             \n",
            "                                                                                                  \n",
            " dense_3 (Dense)             (None, 10)                   27060     ['concatenate[0][0]']         \n",
            "                                                                                                  \n",
            " dense_4 (Dense)             (None, 10)                   110       ['dense_3[0][0]']             \n",
            "                                                                                                  \n",
            " dense_5 (Dense)             (None, 1)                    11        ['dense_4[0][0]']             \n",
            "                                                                                                  \n",
            "==================================================================================================\n",
            "Total params: 72186 (281.98 KB)\n",
            "Trainable params: 72186 (281.98 KB)\n",
            "Non-trainable params: 0 (0.00 Byte)\n",
            "__________________________________________________________________________________________________\n",
            "None\n"
          ]
        },
        {
          "data": {
            "image/png": "[encoded data removed]",
            "text/plain": [
              "<IPython.core.display.Image object>"
            ]
          },
          "execution_count": 40,
          "metadata": {},
          "output_type": "execute_result"
        }
      ],
      "source": [
        "model = Model(inputs=[visible1, visible2], outputs=final_output)\n",
        "\n",
        "#show design\n",
        "print(model.summary())\n",
        "plot_model(model, show_shapes=True)"
      ]
    },
    {
      "cell_type": "markdown",
      "metadata": {
        "id": "UiOpmrbol88H"
      },
      "source": [
        "### Training Model"
      ]
    },
    {
      "cell_type": "code",
      "execution_count": null,
      "metadata": {
        "colab": {
          "base_uri": "https://localhost:8080/"
        },
        "id": "pPdP2SnwmBdx",
        "outputId": "a21f4b6a-73d3-4627-c5bd-4b0e224848b6"
      },
      "outputs": [
        {
          "name": "stdout",
          "output_type": "stream",
          "text": [
            "Epoch 1/200\n",
            "10/10 - 16s - loss: 18257404755968.0000 - val_loss: 164724064256.0000 - 16s/epoch - 2s/step\n",
            "Epoch 2/200\n",
            "10/10 - 15s - loss: 65997492224.0000 - val_loss: 76303605760.0000 - 15s/epoch - 1s/step\n",
            "Epoch 3/200\n",
            "10/10 - 15s - loss: 31068178432.0000 - val_loss: 32342843392.0000 - 15s/epoch - 1s/step\n",
            "Epoch 4/200\n",
            "10/10 - 15s - loss: 17171992576.0000 - val_loss: 20299614208.0000 - 15s/epoch - 1s/step\n",
            "Epoch 5/200\n",
            "10/10 - 15s - loss: 12037647360.0000 - val_loss: 11019192320.0000 - 15s/epoch - 2s/step\n",
            "Epoch 6/200\n",
            "10/10 - 15s - loss: 9248573440.0000 - val_loss: 12030765056.0000 - 15s/epoch - 1s/step\n",
            "Epoch 7/200\n",
            "10/10 - 15s - loss: 9465946112.0000 - val_loss: 9321466880.0000 - 15s/epoch - 1s/step\n",
            "Epoch 8/200\n",
            "10/10 - 15s - loss: 9603438592.0000 - val_loss: 9974898688.0000 - 15s/epoch - 1s/step\n",
            "Epoch 9/200\n",
            "10/10 - 15s - loss: 9384302592.0000 - val_loss: 9707479040.0000 - 15s/epoch - 1s/step\n",
            "Epoch 9: early stopping\n"
          ]
        },
        {
          "data": {
            "text/plain": [
              "<keras.src.callbacks.History at 0x7ceff4ab5120>"
            ]
          },
          "execution_count": 41,
          "metadata": {},
          "output_type": "execute_result"
        }
      ],
      "source": [
        "from tensorflow.keras.optimizers import Adam, SGD\n",
        "\n",
        "monitor = EarlyStopping(monitor='loss', min_delta=1e-3, patience=3, verbose=2, mode='auto')\n",
        "\n",
        "model.compile(loss='mean_squared_error', optimizer=Adam(learning_rate=.1))\n",
        "\n",
        "model.fit(x=[x_train, x_train_img], y=y_train, validation_data=([x_test, x_test_img], y_test), callbacks=[monitor], verbose=2, epochs=200)"
      ]
    },
    {
      "cell_type": "markdown",
      "metadata": {
        "id": "W0TeDZTrhP_B"
      },
      "source": [
        "### Predicting With Model"
      ]
    },
    {
      "cell_type": "code",
      "execution_count": null,
      "metadata": {
        "colab": {
          "base_uri": "https://localhost:8080/"
        },
        "id": "Sf86ma9WhU8L",
        "outputId": "65692b07-afe2-49ce-b411-598d2f0456f0"
      },
      "outputs": [
        {
          "name": "stdout",
          "output_type": "stream",
          "text": [
            "3/3 [==============================] - 1s 182ms/step\n",
            "RMSE: 98526.5403817075\n"
          ]
        }
      ],
      "source": [
        "#Predict using model\n",
        "\n",
        "pred = model.predict([x_test,x_test_img])\n",
        "\n",
        "score = np.sqrt(metrics.mean_squared_error(pred,y_test))\n",
        "print(\"RMSE: {}\".format(score))"
      ]
    },
    {
      "cell_type": "code",
      "execution_count": null,
      "metadata": {
        "colab": {
          "base_uri": "https://localhost:8080/",
          "height": 430
        },
        "id": "kOUQirN-hu8x",
        "outputId": "be78473b-ef8f-41dd-c83e-7a26b1077458"
      },
      "outputs": [
        {
          "data": {
            "image/png": "[encoded data removed]",
            "text/plain": [
              "<Figure size 640x480 with 1 Axes>"
            ]
          },
          "metadata": {},
          "output_type": "display_data"
        }
      ],
      "source": [
        "#produce lift chart for test data\n",
        "%matplotlib inline\n",
        "chart_regression(pred.flatten(),y_test.values, sort= True)"
      ]
    }
  ],
  "metadata": {
    "accelerator": "GPU",
    "colab": {
      "gpuType": "T4",
      "provenance": []
    },
    "kernelspec": {
      "display_name": "Python 3",
      "name": "python3"
    },
    "language_info": {
      "name": "python"
    }
  },
  "nbformat": 4,
  "nbformat_minor": 0
}
